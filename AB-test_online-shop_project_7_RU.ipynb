{
 "cells": [
  {
   "cell_type": "markdown",
   "metadata": {},
   "source": [
    "# А/В-тест для увеличения выручки магазина"
   ]
  },
  {
   "cell_type": "markdown",
   "metadata": {},
   "source": [
    "У крупного интернет-магазина есть ряд гипотез для увеличения выручки, а также данные по А/В-тесту.\n",
    "\n",
    "Цель: проаназировать данные А/В-теста, принять решение о его завершении/продолжении, подвести итоги.\n",
    "\n",
    "Имеющиеся данные: 9 гипотез по улучшению выручки (/datasets/hypothesis.csv), результаты А/В-теста (/datasets/orders.csv и /datasets/visitors.csv).\n",
    "\n",
    "План работ:\n",
    "1. Ознакомление с данными и их подготовка.\n",
    "2. Приоритизация гипотез.\n",
    "3. Анализ А/В-теста.\n",
    "4. Рекомендации для отдела маркетинга."
   ]
  },
  {
   "cell_type": "markdown",
   "metadata": {},
   "source": [
    "## Ознакомление и подготовка данных"
   ]
  },
  {
   "cell_type": "code",
   "execution_count": 1,
   "metadata": {},
   "outputs": [],
   "source": [
    "import pandas as pd\n",
    "import numpy as np\n",
    "import math\n",
    "import matplotlib.pyplot as plt\n",
    "import seaborn as sns\n",
    "import scipy.stats as stats\n",
    "from scipy import stats as st"
   ]
  },
  {
   "cell_type": "code",
   "execution_count": 2,
   "metadata": {},
   "outputs": [],
   "source": [
    "hypothesis = pd.read_csv('/datasets/hypothesis.csv')\n",
    "orders = pd.read_csv('/datasets/orders.csv')\n",
    "visitors = pd.read_csv('/datasets/visitors.csv')"
   ]
  },
  {
   "cell_type": "code",
   "execution_count": 3,
   "metadata": {},
   "outputs": [
    {
     "name": "stdout",
     "output_type": "stream",
     "text": [
      "<class 'pandas.core.frame.DataFrame'>\n",
      "RangeIndex: 9 entries, 0 to 8\n",
      "Data columns (total 5 columns):\n",
      " #   Column      Non-Null Count  Dtype \n",
      "---  ------      --------------  ----- \n",
      " 0   Hypothesis  9 non-null      object\n",
      " 1   Reach       9 non-null      int64 \n",
      " 2   Impact      9 non-null      int64 \n",
      " 3   Confidence  9 non-null      int64 \n",
      " 4   Efforts     9 non-null      int64 \n",
      "dtypes: int64(4), object(1)\n",
      "memory usage: 488.0+ bytes\n"
     ]
    }
   ],
   "source": [
    "hypothesis.info()"
   ]
  },
  {
   "cell_type": "code",
   "execution_count": 4,
   "metadata": {},
   "outputs": [
    {
     "data": {
      "text/html": [
       "<div>\n",
       "<style scoped>\n",
       "    .dataframe tbody tr th:only-of-type {\n",
       "        vertical-align: middle;\n",
       "    }\n",
       "\n",
       "    .dataframe tbody tr th {\n",
       "        vertical-align: top;\n",
       "    }\n",
       "\n",
       "    .dataframe thead th {\n",
       "        text-align: right;\n",
       "    }\n",
       "</style>\n",
       "<table border=\"1\" class=\"dataframe\">\n",
       "  <thead>\n",
       "    <tr style=\"text-align: right;\">\n",
       "      <th></th>\n",
       "      <th>Hypothesis</th>\n",
       "      <th>Reach</th>\n",
       "      <th>Impact</th>\n",
       "      <th>Confidence</th>\n",
       "      <th>Efforts</th>\n",
       "    </tr>\n",
       "  </thead>\n",
       "  <tbody>\n",
       "    <tr>\n",
       "      <th>0</th>\n",
       "      <td>Добавить два новых канала привлечения трафика,...</td>\n",
       "      <td>3</td>\n",
       "      <td>10</td>\n",
       "      <td>8</td>\n",
       "      <td>6</td>\n",
       "    </tr>\n",
       "    <tr>\n",
       "      <th>1</th>\n",
       "      <td>Запустить собственную службу доставки, что сок...</td>\n",
       "      <td>2</td>\n",
       "      <td>5</td>\n",
       "      <td>4</td>\n",
       "      <td>10</td>\n",
       "    </tr>\n",
       "    <tr>\n",
       "      <th>2</th>\n",
       "      <td>Добавить блоки рекомендаций товаров на сайт ин...</td>\n",
       "      <td>8</td>\n",
       "      <td>3</td>\n",
       "      <td>7</td>\n",
       "      <td>3</td>\n",
       "    </tr>\n",
       "    <tr>\n",
       "      <th>3</th>\n",
       "      <td>Изменить структура категорий, что увеличит кон...</td>\n",
       "      <td>8</td>\n",
       "      <td>3</td>\n",
       "      <td>3</td>\n",
       "      <td>8</td>\n",
       "    </tr>\n",
       "    <tr>\n",
       "      <th>4</th>\n",
       "      <td>Изменить цвет фона главной страницы, чтобы уве...</td>\n",
       "      <td>3</td>\n",
       "      <td>1</td>\n",
       "      <td>1</td>\n",
       "      <td>1</td>\n",
       "    </tr>\n",
       "    <tr>\n",
       "      <th>5</th>\n",
       "      <td>Добавить страницу отзывов клиентов о магазине,...</td>\n",
       "      <td>3</td>\n",
       "      <td>2</td>\n",
       "      <td>2</td>\n",
       "      <td>3</td>\n",
       "    </tr>\n",
       "    <tr>\n",
       "      <th>6</th>\n",
       "      <td>Показать на главной странице баннеры с актуаль...</td>\n",
       "      <td>5</td>\n",
       "      <td>3</td>\n",
       "      <td>8</td>\n",
       "      <td>3</td>\n",
       "    </tr>\n",
       "    <tr>\n",
       "      <th>7</th>\n",
       "      <td>Добавить форму подписки на все основные страни...</td>\n",
       "      <td>10</td>\n",
       "      <td>7</td>\n",
       "      <td>8</td>\n",
       "      <td>5</td>\n",
       "    </tr>\n",
       "    <tr>\n",
       "      <th>8</th>\n",
       "      <td>Запустить акцию, дающую скидку на товар в день...</td>\n",
       "      <td>1</td>\n",
       "      <td>9</td>\n",
       "      <td>9</td>\n",
       "      <td>5</td>\n",
       "    </tr>\n",
       "  </tbody>\n",
       "</table>\n",
       "</div>"
      ],
      "text/plain": [
       "                                          Hypothesis  Reach  Impact  \\\n",
       "0  Добавить два новых канала привлечения трафика,...      3      10   \n",
       "1  Запустить собственную службу доставки, что сок...      2       5   \n",
       "2  Добавить блоки рекомендаций товаров на сайт ин...      8       3   \n",
       "3  Изменить структура категорий, что увеличит кон...      8       3   \n",
       "4  Изменить цвет фона главной страницы, чтобы уве...      3       1   \n",
       "5  Добавить страницу отзывов клиентов о магазине,...      3       2   \n",
       "6  Показать на главной странице баннеры с актуаль...      5       3   \n",
       "7  Добавить форму подписки на все основные страни...     10       7   \n",
       "8  Запустить акцию, дающую скидку на товар в день...      1       9   \n",
       "\n",
       "   Confidence  Efforts  \n",
       "0           8        6  \n",
       "1           4       10  \n",
       "2           7        3  \n",
       "3           3        8  \n",
       "4           1        1  \n",
       "5           2        3  \n",
       "6           8        3  \n",
       "7           8        5  \n",
       "8           9        5  "
      ]
     },
     "execution_count": 4,
     "metadata": {},
     "output_type": "execute_result"
    }
   ],
   "source": [
    "hypothesis.head(10)"
   ]
  },
  {
   "cell_type": "code",
   "execution_count": 5,
   "metadata": {},
   "outputs": [
    {
     "name": "stdout",
     "output_type": "stream",
     "text": [
      "<class 'pandas.core.frame.DataFrame'>\n",
      "RangeIndex: 1197 entries, 0 to 1196\n",
      "Data columns (total 5 columns):\n",
      " #   Column         Non-Null Count  Dtype \n",
      "---  ------         --------------  ----- \n",
      " 0   transactionId  1197 non-null   int64 \n",
      " 1   visitorId      1197 non-null   int64 \n",
      " 2   date           1197 non-null   object\n",
      " 3   revenue        1197 non-null   int64 \n",
      " 4   group          1197 non-null   object\n",
      "dtypes: int64(3), object(2)\n",
      "memory usage: 46.9+ KB\n"
     ]
    }
   ],
   "source": [
    "orders.info()"
   ]
  },
  {
   "cell_type": "code",
   "execution_count": 6,
   "metadata": {},
   "outputs": [
    {
     "name": "stdout",
     "output_type": "stream",
     "text": [
      "<class 'pandas.core.frame.DataFrame'>\n",
      "RangeIndex: 1197 entries, 0 to 1196\n",
      "Data columns (total 5 columns):\n",
      " #   Column         Non-Null Count  Dtype         \n",
      "---  ------         --------------  -----         \n",
      " 0   transactionId  1197 non-null   int64         \n",
      " 1   visitorId      1197 non-null   int64         \n",
      " 2   date           1197 non-null   datetime64[ns]\n",
      " 3   revenue        1197 non-null   int64         \n",
      " 4   group          1197 non-null   object        \n",
      "dtypes: datetime64[ns](1), int64(3), object(1)\n",
      "memory usage: 46.9+ KB\n"
     ]
    }
   ],
   "source": [
    "orders['date'] = pd.to_datetime(orders['date'])\n",
    "orders.info()"
   ]
  },
  {
   "cell_type": "code",
   "execution_count": 7,
   "metadata": {},
   "outputs": [],
   "source": [
    "orders.rename(columns={'transactionId':'transaction_id', 'visitorId':'visitor_id'}, inplace=True)"
   ]
  },
  {
   "cell_type": "code",
   "execution_count": 8,
   "metadata": {},
   "outputs": [
    {
     "name": "stdout",
     "output_type": "stream",
     "text": [
      "<class 'pandas.core.frame.DataFrame'>\n",
      "RangeIndex: 62 entries, 0 to 61\n",
      "Data columns (total 3 columns):\n",
      " #   Column    Non-Null Count  Dtype \n",
      "---  ------    --------------  ----- \n",
      " 0   date      62 non-null     object\n",
      " 1   group     62 non-null     object\n",
      " 2   visitors  62 non-null     int64 \n",
      "dtypes: int64(1), object(2)\n",
      "memory usage: 1.6+ KB\n"
     ]
    }
   ],
   "source": [
    "visitors.info()"
   ]
  },
  {
   "cell_type": "code",
   "execution_count": 9,
   "metadata": {},
   "outputs": [
    {
     "name": "stdout",
     "output_type": "stream",
     "text": [
      "<class 'pandas.core.frame.DataFrame'>\n",
      "RangeIndex: 62 entries, 0 to 61\n",
      "Data columns (total 3 columns):\n",
      " #   Column    Non-Null Count  Dtype         \n",
      "---  ------    --------------  -----         \n",
      " 0   date      62 non-null     datetime64[ns]\n",
      " 1   group     62 non-null     object        \n",
      " 2   visitors  62 non-null     int64         \n",
      "dtypes: datetime64[ns](1), int64(1), object(1)\n",
      "memory usage: 1.6+ KB\n"
     ]
    }
   ],
   "source": [
    "visitors['date'] = pd.to_datetime(visitors['date'])\n",
    "visitors.info()"
   ]
  },
  {
   "cell_type": "code",
   "execution_count": 10,
   "metadata": {},
   "outputs": [
    {
     "data": {
      "text/plain": [
       "0"
      ]
     },
     "execution_count": 10,
     "metadata": {},
     "output_type": "execute_result"
    }
   ],
   "source": [
    "orders.duplicated().sum()"
   ]
  },
  {
   "cell_type": "code",
   "execution_count": 11,
   "metadata": {},
   "outputs": [
    {
     "data": {
      "text/plain": [
       "0"
      ]
     },
     "execution_count": 11,
     "metadata": {},
     "output_type": "execute_result"
    }
   ],
   "source": [
    "visitors.duplicated().sum()"
   ]
  },
  {
   "cell_type": "code",
   "execution_count": 12,
   "metadata": {},
   "outputs": [
    {
     "data": {
      "text/plain": [
       "transaction_id    0\n",
       "visitor_id        0\n",
       "date              0\n",
       "revenue           0\n",
       "group             0\n",
       "dtype: int64"
      ]
     },
     "execution_count": 12,
     "metadata": {},
     "output_type": "execute_result"
    }
   ],
   "source": [
    "orders.isna().sum()"
   ]
  },
  {
   "cell_type": "code",
   "execution_count": 13,
   "metadata": {},
   "outputs": [
    {
     "data": {
      "text/plain": [
       "date        0\n",
       "group       0\n",
       "visitors    0\n",
       "dtype: int64"
      ]
     },
     "execution_count": 13,
     "metadata": {},
     "output_type": "execute_result"
    }
   ],
   "source": [
    "visitors.isna().sum()"
   ]
  },
  {
   "cell_type": "markdown",
   "metadata": {},
   "source": [
    "В данных не обнаружены дубликаты и пропуски. Столбцы с датами приведены к формату datetime. Дополнительная доработка данных не требуется."
   ]
  },
  {
   "cell_type": "markdown",
   "metadata": {},
   "source": [
    "## Приоритизация гипотез"
   ]
  },
  {
   "cell_type": "code",
   "execution_count": 14,
   "metadata": {},
   "outputs": [
    {
     "data": {
      "text/html": [
       "<div>\n",
       "<style scoped>\n",
       "    .dataframe tbody tr th:only-of-type {\n",
       "        vertical-align: middle;\n",
       "    }\n",
       "\n",
       "    .dataframe tbody tr th {\n",
       "        vertical-align: top;\n",
       "    }\n",
       "\n",
       "    .dataframe thead th {\n",
       "        text-align: right;\n",
       "    }\n",
       "</style>\n",
       "<table border=\"1\" class=\"dataframe\">\n",
       "  <thead>\n",
       "    <tr style=\"text-align: right;\">\n",
       "      <th></th>\n",
       "      <th>Hypothesis</th>\n",
       "      <th>Reach</th>\n",
       "      <th>Impact</th>\n",
       "      <th>Confidence</th>\n",
       "      <th>Efforts</th>\n",
       "      <th>ICE</th>\n",
       "    </tr>\n",
       "  </thead>\n",
       "  <tbody>\n",
       "    <tr>\n",
       "      <th>8</th>\n",
       "      <td>Запустить акцию, дающую скидку на товар в день...</td>\n",
       "      <td>1</td>\n",
       "      <td>9</td>\n",
       "      <td>9</td>\n",
       "      <td>5</td>\n",
       "      <td>16.200000</td>\n",
       "    </tr>\n",
       "    <tr>\n",
       "      <th>0</th>\n",
       "      <td>Добавить два новых канала привлечения трафика,...</td>\n",
       "      <td>3</td>\n",
       "      <td>10</td>\n",
       "      <td>8</td>\n",
       "      <td>6</td>\n",
       "      <td>13.333333</td>\n",
       "    </tr>\n",
       "    <tr>\n",
       "      <th>7</th>\n",
       "      <td>Добавить форму подписки на все основные страни...</td>\n",
       "      <td>10</td>\n",
       "      <td>7</td>\n",
       "      <td>8</td>\n",
       "      <td>5</td>\n",
       "      <td>11.200000</td>\n",
       "    </tr>\n",
       "    <tr>\n",
       "      <th>6</th>\n",
       "      <td>Показать на главной странице баннеры с актуаль...</td>\n",
       "      <td>5</td>\n",
       "      <td>3</td>\n",
       "      <td>8</td>\n",
       "      <td>3</td>\n",
       "      <td>8.000000</td>\n",
       "    </tr>\n",
       "    <tr>\n",
       "      <th>2</th>\n",
       "      <td>Добавить блоки рекомендаций товаров на сайт ин...</td>\n",
       "      <td>8</td>\n",
       "      <td>3</td>\n",
       "      <td>7</td>\n",
       "      <td>3</td>\n",
       "      <td>7.000000</td>\n",
       "    </tr>\n",
       "  </tbody>\n",
       "</table>\n",
       "</div>"
      ],
      "text/plain": [
       "                                          Hypothesis  Reach  Impact  \\\n",
       "8  Запустить акцию, дающую скидку на товар в день...      1       9   \n",
       "0  Добавить два новых канала привлечения трафика,...      3      10   \n",
       "7  Добавить форму подписки на все основные страни...     10       7   \n",
       "6  Показать на главной странице баннеры с актуаль...      5       3   \n",
       "2  Добавить блоки рекомендаций товаров на сайт ин...      8       3   \n",
       "\n",
       "   Confidence  Efforts        ICE  \n",
       "8           9        5  16.200000  \n",
       "0           8        6  13.333333  \n",
       "7           8        5  11.200000  \n",
       "6           8        3   8.000000  \n",
       "2           7        3   7.000000  "
      ]
     },
     "execution_count": 14,
     "metadata": {},
     "output_type": "execute_result"
    }
   ],
   "source": [
    "hypothesis['ICE'] = hypothesis['Impact'] * hypothesis['Confidence'] / hypothesis['Efforts']\n",
    "hypothesis.sort_values('ICE', ascending=False).head()"
   ]
  },
  {
   "cell_type": "code",
   "execution_count": 15,
   "metadata": {},
   "outputs": [
    {
     "data": {
      "image/png": "[encoded data removed]",
      "text/plain": [
       "<Figure size 432x288 with 1 Axes>"
      ]
     },
     "metadata": {
      "needs_background": "light"
     },
     "output_type": "display_data"
    }
   ],
   "source": [
    "ax = hypothesis[['Hypothesis', 'ICE']].set_index('Hypothesis').sort_values('ICE', ascending=True).plot(kind='barh')\n",
    "ax.set_xlabel('Приоритетность')\n",
    "ax.set_ylabel('Гипотеза')\n",
    "ax.set_title('ICE')\n",
    "plt.show()"
   ]
  },
  {
   "cell_type": "code",
   "execution_count": 16,
   "metadata": {},
   "outputs": [
    {
     "data": {
      "text/html": [
       "<div>\n",
       "<style scoped>\n",
       "    .dataframe tbody tr th:only-of-type {\n",
       "        vertical-align: middle;\n",
       "    }\n",
       "\n",
       "    .dataframe tbody tr th {\n",
       "        vertical-align: top;\n",
       "    }\n",
       "\n",
       "    .dataframe thead th {\n",
       "        text-align: right;\n",
       "    }\n",
       "</style>\n",
       "<table border=\"1\" class=\"dataframe\">\n",
       "  <thead>\n",
       "    <tr style=\"text-align: right;\">\n",
       "      <th></th>\n",
       "      <th>Hypothesis</th>\n",
       "      <th>Reach</th>\n",
       "      <th>Impact</th>\n",
       "      <th>Confidence</th>\n",
       "      <th>Efforts</th>\n",
       "      <th>ICE</th>\n",
       "      <th>RICE</th>\n",
       "    </tr>\n",
       "  </thead>\n",
       "  <tbody>\n",
       "    <tr>\n",
       "      <th>7</th>\n",
       "      <td>Добавить форму подписки на все основные страни...</td>\n",
       "      <td>10</td>\n",
       "      <td>7</td>\n",
       "      <td>8</td>\n",
       "      <td>5</td>\n",
       "      <td>11.200000</td>\n",
       "      <td>112.0</td>\n",
       "    </tr>\n",
       "    <tr>\n",
       "      <th>2</th>\n",
       "      <td>Добавить блоки рекомендаций товаров на сайт ин...</td>\n",
       "      <td>8</td>\n",
       "      <td>3</td>\n",
       "      <td>7</td>\n",
       "      <td>3</td>\n",
       "      <td>7.000000</td>\n",
       "      <td>56.0</td>\n",
       "    </tr>\n",
       "    <tr>\n",
       "      <th>0</th>\n",
       "      <td>Добавить два новых канала привлечения трафика,...</td>\n",
       "      <td>3</td>\n",
       "      <td>10</td>\n",
       "      <td>8</td>\n",
       "      <td>6</td>\n",
       "      <td>13.333333</td>\n",
       "      <td>40.0</td>\n",
       "    </tr>\n",
       "    <tr>\n",
       "      <th>6</th>\n",
       "      <td>Показать на главной странице баннеры с актуаль...</td>\n",
       "      <td>5</td>\n",
       "      <td>3</td>\n",
       "      <td>8</td>\n",
       "      <td>3</td>\n",
       "      <td>8.000000</td>\n",
       "      <td>40.0</td>\n",
       "    </tr>\n",
       "    <tr>\n",
       "      <th>8</th>\n",
       "      <td>Запустить акцию, дающую скидку на товар в день...</td>\n",
       "      <td>1</td>\n",
       "      <td>9</td>\n",
       "      <td>9</td>\n",
       "      <td>5</td>\n",
       "      <td>16.200000</td>\n",
       "      <td>16.2</td>\n",
       "    </tr>\n",
       "  </tbody>\n",
       "</table>\n",
       "</div>"
      ],
      "text/plain": [
       "                                          Hypothesis  Reach  Impact  \\\n",
       "7  Добавить форму подписки на все основные страни...     10       7   \n",
       "2  Добавить блоки рекомендаций товаров на сайт ин...      8       3   \n",
       "0  Добавить два новых канала привлечения трафика,...      3      10   \n",
       "6  Показать на главной странице баннеры с актуаль...      5       3   \n",
       "8  Запустить акцию, дающую скидку на товар в день...      1       9   \n",
       "\n",
       "   Confidence  Efforts        ICE   RICE  \n",
       "7           8        5  11.200000  112.0  \n",
       "2           7        3   7.000000   56.0  \n",
       "0           8        6  13.333333   40.0  \n",
       "6           8        3   8.000000   40.0  \n",
       "8           9        5  16.200000   16.2  "
      ]
     },
     "execution_count": 16,
     "metadata": {},
     "output_type": "execute_result"
    }
   ],
   "source": [
    "hypothesis['RICE'] = hypothesis['Reach'] * hypothesis['Impact'] * hypothesis['Confidence'] / hypothesis['Efforts']\n",
    "hypothesis.sort_values('RICE', ascending=False).head()"
   ]
  },
  {
   "cell_type": "code",
   "execution_count": 17,
   "metadata": {},
   "outputs": [
    {
     "data": {
      "image/png": "[encoded data removed]",
      "text/plain": [
       "<Figure size 432x288 with 1 Axes>"
      ]
     },
     "metadata": {
      "needs_background": "light"
     },
     "output_type": "display_data"
    }
   ],
   "source": [
    "ax = hypothesis[['Hypothesis', 'RICE']].set_index('Hypothesis').sort_values('RICE', ascending=True).plot(kind='barh')\n",
    "ax.set_xlabel('Приоритетность')\n",
    "ax.set_ylabel('Гипотеза')\n",
    "ax.set_title('RICE')\n",
    "plt.show()"
   ]
  },
  {
   "cell_type": "markdown",
   "metadata": {},
   "source": [
    "При рассмотрении ICE наивысшая приоритетность у гипотезы №8, в RICE у гипотезы №7. Это связано с тем, что показатели измеряются по разному, так RICE включает в себя также и охват гипотезы."
   ]
  },
  {
   "cell_type": "markdown",
   "metadata": {},
   "source": [
    "## Анализ А/В-теста"
   ]
  },
  {
   "cell_type": "code",
   "execution_count": 18,
   "metadata": {},
   "outputs": [
    {
     "data": {
      "text/html": [
       "<div>\n",
       "<style scoped>\n",
       "    .dataframe tbody tr th:only-of-type {\n",
       "        vertical-align: middle;\n",
       "    }\n",
       "\n",
       "    .dataframe tbody tr th {\n",
       "        vertical-align: top;\n",
       "    }\n",
       "\n",
       "    .dataframe thead th {\n",
       "        text-align: right;\n",
       "    }\n",
       "</style>\n",
       "<table border=\"1\" class=\"dataframe\">\n",
       "  <thead>\n",
       "    <tr style=\"text-align: right;\">\n",
       "      <th></th>\n",
       "      <th>transaction_id</th>\n",
       "      <th>visitor_id</th>\n",
       "      <th>date</th>\n",
       "      <th>revenue</th>\n",
       "      <th>group</th>\n",
       "    </tr>\n",
       "  </thead>\n",
       "  <tbody>\n",
       "    <tr>\n",
       "      <th>0</th>\n",
       "      <td>3667963787</td>\n",
       "      <td>3312258926</td>\n",
       "      <td>2019-08-15</td>\n",
       "      <td>1650</td>\n",
       "      <td>B</td>\n",
       "    </tr>\n",
       "    <tr>\n",
       "      <th>1</th>\n",
       "      <td>2804400009</td>\n",
       "      <td>3642806036</td>\n",
       "      <td>2019-08-15</td>\n",
       "      <td>730</td>\n",
       "      <td>B</td>\n",
       "    </tr>\n",
       "    <tr>\n",
       "      <th>2</th>\n",
       "      <td>2961555356</td>\n",
       "      <td>4069496402</td>\n",
       "      <td>2019-08-15</td>\n",
       "      <td>400</td>\n",
       "      <td>A</td>\n",
       "    </tr>\n",
       "    <tr>\n",
       "      <th>3</th>\n",
       "      <td>3797467345</td>\n",
       "      <td>1196621759</td>\n",
       "      <td>2019-08-15</td>\n",
       "      <td>9759</td>\n",
       "      <td>B</td>\n",
       "    </tr>\n",
       "    <tr>\n",
       "      <th>4</th>\n",
       "      <td>2282983706</td>\n",
       "      <td>2322279887</td>\n",
       "      <td>2019-08-15</td>\n",
       "      <td>2308</td>\n",
       "      <td>B</td>\n",
       "    </tr>\n",
       "  </tbody>\n",
       "</table>\n",
       "</div>"
      ],
      "text/plain": [
       "   transaction_id  visitor_id       date  revenue group\n",
       "0      3667963787  3312258926 2019-08-15     1650     B\n",
       "1      2804400009  3642806036 2019-08-15      730     B\n",
       "2      2961555356  4069496402 2019-08-15      400     A\n",
       "3      3797467345  1196621759 2019-08-15     9759     B\n",
       "4      2282983706  2322279887 2019-08-15     2308     B"
      ]
     },
     "execution_count": 18,
     "metadata": {},
     "output_type": "execute_result"
    }
   ],
   "source": [
    "orders.head(5)"
   ]
  },
  {
   "cell_type": "code",
   "execution_count": 19,
   "metadata": {},
   "outputs": [
    {
     "data": {
      "text/html": [
       "<div>\n",
       "<style scoped>\n",
       "    .dataframe tbody tr th:only-of-type {\n",
       "        vertical-align: middle;\n",
       "    }\n",
       "\n",
       "    .dataframe tbody tr th {\n",
       "        vertical-align: top;\n",
       "    }\n",
       "\n",
       "    .dataframe thead th {\n",
       "        text-align: right;\n",
       "    }\n",
       "</style>\n",
       "<table border=\"1\" class=\"dataframe\">\n",
       "  <thead>\n",
       "    <tr style=\"text-align: right;\">\n",
       "      <th></th>\n",
       "      <th>date</th>\n",
       "      <th>group</th>\n",
       "      <th>visitors</th>\n",
       "    </tr>\n",
       "  </thead>\n",
       "  <tbody>\n",
       "    <tr>\n",
       "      <th>0</th>\n",
       "      <td>2019-08-01</td>\n",
       "      <td>A</td>\n",
       "      <td>719</td>\n",
       "    </tr>\n",
       "    <tr>\n",
       "      <th>1</th>\n",
       "      <td>2019-08-02</td>\n",
       "      <td>A</td>\n",
       "      <td>619</td>\n",
       "    </tr>\n",
       "    <tr>\n",
       "      <th>2</th>\n",
       "      <td>2019-08-03</td>\n",
       "      <td>A</td>\n",
       "      <td>507</td>\n",
       "    </tr>\n",
       "    <tr>\n",
       "      <th>3</th>\n",
       "      <td>2019-08-04</td>\n",
       "      <td>A</td>\n",
       "      <td>717</td>\n",
       "    </tr>\n",
       "    <tr>\n",
       "      <th>4</th>\n",
       "      <td>2019-08-05</td>\n",
       "      <td>A</td>\n",
       "      <td>756</td>\n",
       "    </tr>\n",
       "  </tbody>\n",
       "</table>\n",
       "</div>"
      ],
      "text/plain": [
       "        date group  visitors\n",
       "0 2019-08-01     A       719\n",
       "1 2019-08-02     A       619\n",
       "2 2019-08-03     A       507\n",
       "3 2019-08-04     A       717\n",
       "4 2019-08-05     A       756"
      ]
     },
     "execution_count": 19,
     "metadata": {},
     "output_type": "execute_result"
    }
   ],
   "source": [
    "visitors.head(5)"
   ]
  },
  {
   "cell_type": "code",
   "execution_count": 20,
   "metadata": {},
   "outputs": [],
   "source": [
    "orders_group = (orders.groupby(['date','group'], as_index=False)\n",
    "                        .agg({'transaction_id':'nunique','visitor_id':'nunique','revenue':'sum'}))\\\n",
    "                        .rename(columns={'transaction_id':'orders','visitor_id':'buyers'})\n",
    "orders_group['group_copy'] = orders_group['group']\n",
    "orders_group = orders_group.set_index(['date','group'])\n",
    "orders_csum = orders_group.sort_values(['date','group']).groupby('group_copy').cumsum().reset_index()"
   ]
  },
  {
   "cell_type": "code",
   "execution_count": 21,
   "metadata": {},
   "outputs": [],
   "source": [
    "visitors_csum = visitors.groupby(['date','group'], as_index=False).agg({'visitors':'sum'}).sort_values(['date','group'])\n",
    "visitors_csum['group_copy'] = visitors_csum['group']\n",
    "visitors_csum = visitors_csum.set_index(['date','group']).groupby('group_copy').cumsum().reset_index() "
   ]
  },
  {
   "cell_type": "code",
   "execution_count": 22,
   "metadata": {},
   "outputs": [],
   "source": [
    "cummulative = orders_csum.join(visitors_csum[['visitors']])"
   ]
  },
  {
   "cell_type": "code",
   "execution_count": 23,
   "metadata": {},
   "outputs": [],
   "source": [
    "cummulative['average_purchase'] = cummulative['revenue'] / cummulative['orders']\n",
    "cummulative['conversion'] = cummulative['orders'] / cummulative['visitors']"
   ]
  },
  {
   "cell_type": "code",
   "execution_count": 24,
   "metadata": {},
   "outputs": [
    {
     "data": {
      "text/html": [
       "<div>\n",
       "<style scoped>\n",
       "    .dataframe tbody tr th:only-of-type {\n",
       "        vertical-align: middle;\n",
       "    }\n",
       "\n",
       "    .dataframe tbody tr th {\n",
       "        vertical-align: top;\n",
       "    }\n",
       "\n",
       "    .dataframe thead th {\n",
       "        text-align: right;\n",
       "    }\n",
       "</style>\n",
       "<table border=\"1\" class=\"dataframe\">\n",
       "  <thead>\n",
       "    <tr style=\"text-align: right;\">\n",
       "      <th></th>\n",
       "      <th>date</th>\n",
       "      <th>group</th>\n",
       "      <th>orders</th>\n",
       "      <th>buyers</th>\n",
       "      <th>revenue</th>\n",
       "      <th>visitors</th>\n",
       "      <th>average_purchase</th>\n",
       "      <th>conversion</th>\n",
       "    </tr>\n",
       "  </thead>\n",
       "  <tbody>\n",
       "    <tr>\n",
       "      <th>0</th>\n",
       "      <td>2019-08-01</td>\n",
       "      <td>A</td>\n",
       "      <td>24</td>\n",
       "      <td>20</td>\n",
       "      <td>148579</td>\n",
       "      <td>719</td>\n",
       "      <td>6190.791667</td>\n",
       "      <td>0.033380</td>\n",
       "    </tr>\n",
       "    <tr>\n",
       "      <th>1</th>\n",
       "      <td>2019-08-01</td>\n",
       "      <td>B</td>\n",
       "      <td>21</td>\n",
       "      <td>20</td>\n",
       "      <td>101217</td>\n",
       "      <td>713</td>\n",
       "      <td>4819.857143</td>\n",
       "      <td>0.029453</td>\n",
       "    </tr>\n",
       "    <tr>\n",
       "      <th>2</th>\n",
       "      <td>2019-08-02</td>\n",
       "      <td>A</td>\n",
       "      <td>44</td>\n",
       "      <td>39</td>\n",
       "      <td>242401</td>\n",
       "      <td>1338</td>\n",
       "      <td>5509.113636</td>\n",
       "      <td>0.032885</td>\n",
       "    </tr>\n",
       "    <tr>\n",
       "      <th>3</th>\n",
       "      <td>2019-08-02</td>\n",
       "      <td>B</td>\n",
       "      <td>45</td>\n",
       "      <td>43</td>\n",
       "      <td>266748</td>\n",
       "      <td>1294</td>\n",
       "      <td>5927.733333</td>\n",
       "      <td>0.034776</td>\n",
       "    </tr>\n",
       "    <tr>\n",
       "      <th>4</th>\n",
       "      <td>2019-08-03</td>\n",
       "      <td>A</td>\n",
       "      <td>68</td>\n",
       "      <td>63</td>\n",
       "      <td>354874</td>\n",
       "      <td>1845</td>\n",
       "      <td>5218.735294</td>\n",
       "      <td>0.036856</td>\n",
       "    </tr>\n",
       "  </tbody>\n",
       "</table>\n",
       "</div>"
      ],
      "text/plain": [
       "        date group  orders  buyers  revenue  visitors  average_purchase  \\\n",
       "0 2019-08-01     A      24      20   148579       719       6190.791667   \n",
       "1 2019-08-01     B      21      20   101217       713       4819.857143   \n",
       "2 2019-08-02     A      44      39   242401      1338       5509.113636   \n",
       "3 2019-08-02     B      45      43   266748      1294       5927.733333   \n",
       "4 2019-08-03     A      68      63   354874      1845       5218.735294   \n",
       "\n",
       "   conversion  \n",
       "0    0.033380  \n",
       "1    0.029453  \n",
       "2    0.032885  \n",
       "3    0.034776  \n",
       "4    0.036856  "
      ]
     },
     "execution_count": 24,
     "metadata": {},
     "output_type": "execute_result"
    }
   ],
   "source": [
    "cummulative.head()"
   ]
  },
  {
   "cell_type": "markdown",
   "metadata": {},
   "source": [
    "### Куммулятивная выручка по группам"
   ]
  },
  {
   "cell_type": "code",
   "execution_count": 25,
   "metadata": {},
   "outputs": [
    {
     "data": {
      "image/png": "[encoded data removed]",
      "text/plain": [
       "<Figure size 432x288 with 1 Axes>"
      ]
     },
     "metadata": {
      "needs_background": "light"
     },
     "output_type": "display_data"
    }
   ],
   "source": [
    "cummulativeA = cummulative[cummulative['group']=='A'][['date', 'revenue']]\n",
    "cummulativeB = cummulative[cummulative['group']=='B'][['date', 'revenue']]\n",
    "plt.plot(cummulativeA.iloc[:,0].to_frame(), cummulativeA.iloc[:,1].to_frame(), label='A' )\n",
    "plt.plot(cummulativeB.iloc[:,0].to_frame(), cummulativeB.iloc[:,1].to_frame(), label='B')\n",
    "plt.title('Кумулятивная выручка по группам')\n",
    "plt.ylabel(\"Выручка\")\n",
    "plt.xticks(rotation=45)\n",
    "plt.legend()\n",
    "plt.show()"
   ]
  },
  {
   "cell_type": "markdown",
   "metadata": {},
   "source": [
    "Выручка в группе А растет линейно, в группе В выручка также растет, но есть резкий рост выручки 17.08.2019, возможно это выброс."
   ]
  },
  {
   "cell_type": "markdown",
   "metadata": {},
   "source": [
    "### Куммулятвный средний чек по группам"
   ]
  },
  {
   "cell_type": "code",
   "execution_count": 26,
   "metadata": {},
   "outputs": [
    {
     "data": {
      "image/png": "[encoded data removed]",
      "text/plain": [
       "<Figure size 432x288 with 1 Axes>"
      ]
     },
     "metadata": {
      "needs_background": "light"
     },
     "output_type": "display_data"
    }
   ],
   "source": [
    "cummulativeA = cummulative[cummulative['group']=='A'][['date', 'average_purchase']]\n",
    "cummulativeB = cummulative[cummulative['group']=='B'][['date', 'average_purchase']]\n",
    "plt.plot(cummulativeA.iloc[:,0].to_frame(), cummulativeA.iloc[:,1].to_frame(), label='A' )\n",
    "plt.plot(cummulativeB.iloc[:,0].to_frame(), cummulativeB.iloc[:,1].to_frame(), label='B')\n",
    "plt.title('Куммулятивный средний чек по группам')\n",
    "plt.ylabel(\"Выручка\")\n",
    "plt.xticks(rotation=45)\n",
    "plt.legend()\n",
    "plt.show()"
   ]
  },
  {
   "cell_type": "markdown",
   "metadata": {},
   "source": [
    "По графику среднего чека, в группе В также заметен резкий рост в ту же дату и затем снижение. "
   ]
  },
  {
   "cell_type": "markdown",
   "metadata": {},
   "source": [
    "### Относительное изменение кумулятивного среднего чека группы B к группе A"
   ]
  },
  {
   "cell_type": "code",
   "execution_count": 27,
   "metadata": {},
   "outputs": [
    {
     "data": {
      "image/png": "[encoded data removed]",
      "text/plain": [
       "<Figure size 432x288 with 1 Axes>"
      ]
     },
     "metadata": {
      "needs_background": "light"
     },
     "output_type": "display_data"
    }
   ],
   "source": [
    "temp = (cummulativeA[['date', 'average_purchase']].merge(cummulativeB[['date', 'average_purchase']], left_on='date', right_on='date', how='left', suffixes=['_A', '_B']))\n",
    "plt.plot(temp['date'], temp['average_purchase_B'] / temp['average_purchase_A']-1)\n",
    "plt.title('Относительное изменение кумулятивного среднего чека группы B к группе A')\n",
    "plt.axhline(y=0, color='red', linestyle='-')\n",
    "plt.xticks(rotation=45)\n",
    "plt.show()"
   ]
  },
  {
   "cell_type": "markdown",
   "metadata": {},
   "source": [
    "На графике относительного куммулятивного чека та же ситуация, резкий скачок в ту же дату и затем снижение."
   ]
  },
  {
   "cell_type": "markdown",
   "metadata": {},
   "source": [
    "### Куммулятивная конверсия по группам"
   ]
  },
  {
   "cell_type": "code",
   "execution_count": 28,
   "metadata": {},
   "outputs": [
    {
     "data": {
      "image/png": "[encoded data removed]",
      "text/plain": [
       "<Figure size 432x288 with 1 Axes>"
      ]
     },
     "metadata": {
      "needs_background": "light"
     },
     "output_type": "display_data"
    }
   ],
   "source": [
    "cummulativeA = cummulative[cummulative['group']=='A'][['date', 'conversion']]\n",
    "cummulativeB = cummulative[cummulative['group']=='B'][['date', 'conversion']]\n",
    "plt.plot(cummulativeA.iloc[:,0].to_frame(), cummulativeA.iloc[:,1].to_frame(), label='A' )\n",
    "plt.plot(cummulativeB.iloc[:,0].to_frame(), cummulativeB.iloc[:,1].to_frame(), label='B')\n",
    "plt.title('Кумулятивная конверсия по группам')\n",
    "plt.ylabel(\"Конверсия\")\n",
    "plt.xticks(rotation=45)\n",
    "plt.legend()\n",
    "plt.show()"
   ]
  },
  {
   "cell_type": "markdown",
   "metadata": {},
   "source": [
    "В среднем конверсия группы В выше изменяется между 0,029 и 0,036. У группы А после резкого скачка конверсии в начале до 0,037 затем конверсия снижается и остается в районе 0,029-0,031."
   ]
  },
  {
   "cell_type": "markdown",
   "metadata": {},
   "source": [
    "### Относительное изменение кумулятивной конверсии группы B к группе A"
   ]
  },
  {
   "cell_type": "code",
   "execution_count": 29,
   "metadata": {},
   "outputs": [
    {
     "data": {
      "image/png": "[encoded data removed]",
      "text/plain": [
       "<Figure size 432x288 with 1 Axes>"
      ]
     },
     "metadata": {
      "needs_background": "light"
     },
     "output_type": "display_data"
    }
   ],
   "source": [
    "temp = (cummulativeA[['date', 'conversion']].merge(cummulativeB[['date', 'conversion']], left_on='date', right_on='date', how='left', suffixes=['_A', '_B']))\n",
    "plt.plot(temp['date'], temp['conversion_B'] / temp['conversion_A']-1)\n",
    "plt.title('Относительное изменение кумулятивной конверсии группы B к группе A')\n",
    "plt.axhline(y=0.10, color='red', linestyle='-')\n",
    "plt.xticks(rotation=45)\n",
    "plt.show()"
   ]
  },
  {
   "cell_type": "markdown",
   "metadata": {},
   "source": [
    "За месяц исследования заметно, что конверсия группы В заметно лучше, чем у группы А."
   ]
  },
  {
   "cell_type": "markdown",
   "metadata": {},
   "source": [
    "### Количество заказов по пользователям"
   ]
  },
  {
   "cell_type": "code",
   "execution_count": 30,
   "metadata": {},
   "outputs": [],
   "source": [
    "orders_user = orders.groupby('visitor_id', as_index=False).agg({'transaction_id':'nunique'}).rename(columns={'transaction_id':'orders'})"
   ]
  },
  {
   "cell_type": "code",
   "execution_count": 31,
   "metadata": {},
   "outputs": [
    {
     "data": {
      "text/html": [
       "<div>\n",
       "<style scoped>\n",
       "    .dataframe tbody tr th:only-of-type {\n",
       "        vertical-align: middle;\n",
       "    }\n",
       "\n",
       "    .dataframe tbody tr th {\n",
       "        vertical-align: top;\n",
       "    }\n",
       "\n",
       "    .dataframe thead th {\n",
       "        text-align: right;\n",
       "    }\n",
       "</style>\n",
       "<table border=\"1\" class=\"dataframe\">\n",
       "  <thead>\n",
       "    <tr style=\"text-align: right;\">\n",
       "      <th></th>\n",
       "      <th>visitor_id</th>\n",
       "      <th>orders</th>\n",
       "    </tr>\n",
       "  </thead>\n",
       "  <tbody>\n",
       "    <tr>\n",
       "      <th>0</th>\n",
       "      <td>5114589</td>\n",
       "      <td>1</td>\n",
       "    </tr>\n",
       "    <tr>\n",
       "      <th>1</th>\n",
       "      <td>6958315</td>\n",
       "      <td>1</td>\n",
       "    </tr>\n",
       "    <tr>\n",
       "      <th>2</th>\n",
       "      <td>8300375</td>\n",
       "      <td>2</td>\n",
       "    </tr>\n",
       "    <tr>\n",
       "      <th>3</th>\n",
       "      <td>11685486</td>\n",
       "      <td>1</td>\n",
       "    </tr>\n",
       "    <tr>\n",
       "      <th>4</th>\n",
       "      <td>39475350</td>\n",
       "      <td>1</td>\n",
       "    </tr>\n",
       "  </tbody>\n",
       "</table>\n",
       "</div>"
      ],
      "text/plain": [
       "   visitor_id  orders\n",
       "0     5114589       1\n",
       "1     6958315       1\n",
       "2     8300375       2\n",
       "3    11685486       1\n",
       "4    39475350       1"
      ]
     },
     "execution_count": 31,
     "metadata": {},
     "output_type": "execute_result"
    }
   ],
   "source": [
    "orders_user.head(5)"
   ]
  },
  {
   "cell_type": "code",
   "execution_count": 32,
   "metadata": {},
   "outputs": [
    {
     "data": {
      "text/plain": [
       "11"
      ]
     },
     "execution_count": 32,
     "metadata": {},
     "output_type": "execute_result"
    }
   ],
   "source": [
    "orders_user['orders'].max()"
   ]
  },
  {
   "cell_type": "code",
   "execution_count": 33,
   "metadata": {},
   "outputs": [
    {
     "data": {
      "image/png": "[encoded data removed]",
      "text/plain": [
       "<Figure size 432x288 with 1 Axes>"
      ]
     },
     "metadata": {
      "needs_background": "light"
     },
     "output_type": "display_data"
    }
   ],
   "source": [
    "x_values = pd.Series(range(0,len(orders_user['orders'])))\n",
    "plt.scatter(x_values, orders_user['orders'], color='red')\n",
    "plt.show()"
   ]
  },
  {
   "cell_type": "markdown",
   "metadata": {},
   "source": [
    "Основная часть пользователей совершает покупку в интернет-магазине 1 раз, довольно большая группа совершает покупку от 2 до 4  раз. Заметны незначительные выбросы пользователей, кто совершает покупку более 4 раз. Максимальное число заказов - 11."
   ]
  },
  {
   "cell_type": "markdown",
   "metadata": {},
   "source": [
    "### 95-й и 99-й перцентили количества заказов на пользователя, границы для определения аномальных пользователей"
   ]
  },
  {
   "cell_type": "code",
   "execution_count": 34,
   "metadata": {},
   "outputs": [
    {
     "name": "stdout",
     "output_type": "stream",
     "text": [
      "95 перцентиль: 2.00\n",
      "99 перцентиль: 4.00\n"
     ]
    }
   ],
   "source": [
    "print('95 перцентиль: %.2f' % (np.percentile(orders_user['orders'], [95])))\n",
    "print('99 перцентиль: %.2f' % (np.percentile(orders_user['orders'], [99])))"
   ]
  },
  {
   "cell_type": "code",
   "execution_count": 35,
   "metadata": {},
   "outputs": [],
   "source": [
    "purchase_1p = orders_user[orders_user['orders'] >= 4]['visitor_id'].to_list()"
   ]
  },
  {
   "cell_type": "markdown",
   "metadata": {},
   "source": [
    "Только 5% пользователей делают больше 2 заказов, и только 1% более 4 заказов. Поэтому можно ограничить нашу выборку от выбросов, очистив данные от 1% пользователей, делающих 4 и более заказов. "
   ]
  },
  {
   "cell_type": "markdown",
   "metadata": {},
   "source": [
    "<div class=\"alert alert-block alert-success\">\n",
    "    \n",
    "\n",
    "### Комментарий от ревьюера v_2\n",
    "Отлично\n",
    "    \n",
    "Верное решение, отбросив 1% ты и сохранишь репрезентативность выборки, и избавишься от явных выбросов\n",
    "    \n",
    "</div>"
   ]
  },
  {
   "cell_type": "markdown",
   "metadata": {},
   "source": [
    "### Стоимость заказов"
   ]
  },
  {
   "cell_type": "code",
   "execution_count": 36,
   "metadata": {},
   "outputs": [
    {
     "data": {
      "image/png": "[encoded data removed]",
      "text/plain": [
       "<Figure size 432x288 with 1 Axes>"
      ]
     },
     "metadata": {
      "needs_background": "light"
     },
     "output_type": "display_data"
    }
   ],
   "source": [
    "x_values = pd.Series(range(0,len(orders['revenue'])))\n",
    "plt.scatter(x_values, orders['revenue'], color='red')\n",
    "plt.show()"
   ]
  },
  {
   "cell_type": "code",
   "execution_count": 37,
   "metadata": {},
   "outputs": [
    {
     "data": {
      "text/plain": [
       "1294500"
      ]
     },
     "execution_count": 37,
     "metadata": {},
     "output_type": "execute_result"
    }
   ],
   "source": [
    "orders['revenue'].max()"
   ]
  },
  {
   "cell_type": "markdown",
   "metadata": {},
   "source": [
    "Вероятно на этом графике 2 выброса и есть причина скачков в группе В. Максимальная стоимость заказа - 1,3 млн? \n",
    "Из-за этого скачка по масштабу графика границы аномалий очертить сложно."
   ]
  },
  {
   "cell_type": "markdown",
   "metadata": {},
   "source": [
    "### 95-й и 99-й перцентили стоимости заказов, граница для аномальных заказов"
   ]
  },
  {
   "cell_type": "code",
   "execution_count": 38,
   "metadata": {},
   "outputs": [
    {
     "name": "stdout",
     "output_type": "stream",
     "text": [
      "95 перцентиль: 28000.00\n",
      "99 перцентиль: 58233.20\n"
     ]
    }
   ],
   "source": [
    "print('95 перцентиль: %.2f' % (np.percentile(orders['revenue'], [95])))\n",
    "print('99 перцентиль: %.2f' % (np.percentile(orders['revenue'], [99])))"
   ]
  },
  {
   "cell_type": "markdown",
   "metadata": {},
   "source": [
    "Только для 5% пользователей стоимость заказа превышала 28 тыс. руб., и только для 1% превышала 58,2 тыс. руб. Поэтому данные стоит также очистить от анамальных 1% пользователей с наиболее высокой стоимостью заказов."
   ]
  },
  {
   "cell_type": "markdown",
   "metadata": {},
   "source": [
    "### Статистическая значимость различий в конверсии между группами по «сырым» данным"
   ]
  },
  {
   "cell_type": "markdown",
   "metadata": {},
   "source": [
    "Применим критерий Манна-Уитни и проверим гипотезы:\n",
    "\n",
    "Н0: Конверсия в группе A равна конверсии в группе B.\n",
    "\n",
    "H1: Конверсия в группе A не равна конверсии в группе B."
   ]
  },
  {
   "cell_type": "code",
   "execution_count": 39,
   "metadata": {},
   "outputs": [
    {
     "data": {
      "text/html": [
       "<div>\n",
       "<style scoped>\n",
       "    .dataframe tbody tr th:only-of-type {\n",
       "        vertical-align: middle;\n",
       "    }\n",
       "\n",
       "    .dataframe tbody tr th {\n",
       "        vertical-align: top;\n",
       "    }\n",
       "\n",
       "    .dataframe thead th {\n",
       "        text-align: right;\n",
       "    }\n",
       "</style>\n",
       "<table border=\"1\" class=\"dataframe\">\n",
       "  <thead>\n",
       "    <tr style=\"text-align: right;\">\n",
       "      <th></th>\n",
       "      <th>date</th>\n",
       "      <th>ordersPerDateA</th>\n",
       "      <th>revenuePerDateA</th>\n",
       "      <th>ordersPerDateB</th>\n",
       "      <th>revenuePerDateB</th>\n",
       "      <th>ordersCummulativeA</th>\n",
       "      <th>revenueCummulativeA</th>\n",
       "      <th>ordersCummulativeB</th>\n",
       "      <th>revenueCummulativeB</th>\n",
       "      <th>visitorsPerDateA</th>\n",
       "      <th>visitorsPerDateB</th>\n",
       "      <th>visitorsCummulativeA</th>\n",
       "      <th>visitorsCummulativeB</th>\n",
       "    </tr>\n",
       "  </thead>\n",
       "  <tbody>\n",
       "    <tr>\n",
       "      <th>0</th>\n",
       "      <td>2019-08-01</td>\n",
       "      <td>24</td>\n",
       "      <td>148579</td>\n",
       "      <td>21</td>\n",
       "      <td>101217</td>\n",
       "      <td>24</td>\n",
       "      <td>148579</td>\n",
       "      <td>21</td>\n",
       "      <td>101217</td>\n",
       "      <td>719</td>\n",
       "      <td>713</td>\n",
       "      <td>719</td>\n",
       "      <td>713</td>\n",
       "    </tr>\n",
       "    <tr>\n",
       "      <th>1</th>\n",
       "      <td>2019-08-02</td>\n",
       "      <td>20</td>\n",
       "      <td>93822</td>\n",
       "      <td>24</td>\n",
       "      <td>165531</td>\n",
       "      <td>44</td>\n",
       "      <td>242401</td>\n",
       "      <td>45</td>\n",
       "      <td>266748</td>\n",
       "      <td>619</td>\n",
       "      <td>581</td>\n",
       "      <td>1338</td>\n",
       "      <td>1294</td>\n",
       "    </tr>\n",
       "    <tr>\n",
       "      <th>2</th>\n",
       "      <td>2019-08-03</td>\n",
       "      <td>24</td>\n",
       "      <td>112473</td>\n",
       "      <td>16</td>\n",
       "      <td>114248</td>\n",
       "      <td>68</td>\n",
       "      <td>354874</td>\n",
       "      <td>61</td>\n",
       "      <td>380996</td>\n",
       "      <td>507</td>\n",
       "      <td>509</td>\n",
       "      <td>1845</td>\n",
       "      <td>1803</td>\n",
       "    </tr>\n",
       "    <tr>\n",
       "      <th>3</th>\n",
       "      <td>2019-08-04</td>\n",
       "      <td>16</td>\n",
       "      <td>70825</td>\n",
       "      <td>17</td>\n",
       "      <td>108571</td>\n",
       "      <td>84</td>\n",
       "      <td>425699</td>\n",
       "      <td>78</td>\n",
       "      <td>489567</td>\n",
       "      <td>717</td>\n",
       "      <td>770</td>\n",
       "      <td>2562</td>\n",
       "      <td>2573</td>\n",
       "    </tr>\n",
       "    <tr>\n",
       "      <th>4</th>\n",
       "      <td>2019-08-05</td>\n",
       "      <td>25</td>\n",
       "      <td>124218</td>\n",
       "      <td>23</td>\n",
       "      <td>92428</td>\n",
       "      <td>109</td>\n",
       "      <td>549917</td>\n",
       "      <td>101</td>\n",
       "      <td>581995</td>\n",
       "      <td>756</td>\n",
       "      <td>707</td>\n",
       "      <td>3318</td>\n",
       "      <td>3280</td>\n",
       "    </tr>\n",
       "  </tbody>\n",
       "</table>\n",
       "</div>"
      ],
      "text/plain": [
       "        date  ordersPerDateA  revenuePerDateA  ordersPerDateB  \\\n",
       "0 2019-08-01              24           148579              21   \n",
       "1 2019-08-02              20            93822              24   \n",
       "2 2019-08-03              24           112473              16   \n",
       "3 2019-08-04              16            70825              17   \n",
       "4 2019-08-05              25           124218              23   \n",
       "\n",
       "   revenuePerDateB  ordersCummulativeA  revenueCummulativeA  \\\n",
       "0           101217                  24               148579   \n",
       "1           165531                  44               242401   \n",
       "2           114248                  68               354874   \n",
       "3           108571                  84               425699   \n",
       "4            92428                 109               549917   \n",
       "\n",
       "   ordersCummulativeB  revenueCummulativeB  visitorsPerDateA  \\\n",
       "0                  21               101217               719   \n",
       "1                  45               266748               619   \n",
       "2                  61               380996               507   \n",
       "3                  78               489567               717   \n",
       "4                 101               581995               756   \n",
       "\n",
       "   visitorsPerDateB  visitorsCummulativeA  visitorsCummulativeB  \n",
       "0               713                   719                   713  \n",
       "1               581                  1338                  1294  \n",
       "2               509                  1845                  1803  \n",
       "3               770                  2562                  2573  \n",
       "4               707                  3318                  3280  "
      ]
     },
     "execution_count": 39,
     "metadata": {},
     "output_type": "execute_result"
    }
   ],
   "source": [
    "visitorsADaily = visitors[visitors['group'] == 'A'][['date', 'visitors']]\n",
    "visitorsADaily.columns = ['date', 'visitorsPerDateA']\n",
    "\n",
    "visitorsACummulative = visitorsADaily.apply(\n",
    "    lambda x: visitorsADaily[visitorsADaily['date'] <= x['date']].agg(\n",
    "        {'date': 'max', 'visitorsPerDateA': 'sum'}\n",
    "    ),\n",
    "    axis=1,\n",
    ")\n",
    "visitorsACummulative.columns = ['date', 'visitorsCummulativeA']\n",
    "\n",
    "visitorsBDaily = visitors[visitors['group'] == 'B'][['date', 'visitors']]\n",
    "visitorsBDaily.columns = ['date', 'visitorsPerDateB']\n",
    "\n",
    "visitorsBCummulative = visitorsBDaily.apply(\n",
    "    lambda x: visitorsBDaily[visitorsBDaily['date'] <= x['date']].agg(\n",
    "        {'date': 'max', 'visitorsPerDateB': 'sum'}\n",
    "    ),\n",
    "    axis=1,\n",
    ")\n",
    "visitorsBCummulative.columns = ['date', 'visitorsCummulativeB']\n",
    "\n",
    "ordersADaily = (\n",
    "    orders[orders['group'] == 'A'][['date', 'transaction_id', 'visitor_id', 'revenue']]\n",
    "    .groupby('date', as_index=False)\n",
    "    .agg({'transaction_id': pd.Series.nunique, 'revenue': 'sum'})\n",
    ")\n",
    "ordersADaily.columns = ['date', 'ordersPerDateA', 'revenuePerDateA']\n",
    "\n",
    "ordersACummulative = ordersADaily.apply(\n",
    "    lambda x: ordersADaily[ordersADaily['date'] <= x['date']].agg(\n",
    "        {'date': 'max', 'ordersPerDateA': 'sum', 'revenuePerDateA': 'sum'}\n",
    "    ),\n",
    "    axis=1,\n",
    ").sort_values(by=['date'])\n",
    "ordersACummulative.columns = [\n",
    "    'date',\n",
    "    'ordersCummulativeA',\n",
    "    'revenueCummulativeA',\n",
    "]\n",
    "\n",
    "ordersBDaily = (\n",
    "    orders[orders['group'] == 'B'][['date', 'transaction_id', 'visitor_id', 'revenue']]\n",
    "    .groupby('date', as_index=False)\n",
    "    .agg({'transaction_id': pd.Series.nunique, 'revenue': 'sum'})\n",
    ")\n",
    "\n",
    "ordersBDaily.columns = ['date', 'ordersPerDateB', 'revenuePerDateB']\n",
    "\n",
    "ordersBCummulative = ordersBDaily.apply(\n",
    "    lambda x: ordersBDaily[ordersBDaily['date'] <= x['date']].agg(\n",
    "        {'date': 'max', 'ordersPerDateB': 'sum', 'revenuePerDateB': 'sum'}\n",
    "    ),\n",
    "    axis=1,\n",
    ").sort_values(by=['date'])\n",
    "ordersBCummulative.columns = [\n",
    "    'date',\n",
    "    'ordersCummulativeB',\n",
    "    'revenueCummulativeB',\n",
    "]\n",
    "\n",
    "data = (\n",
    "    ordersADaily.merge(\n",
    "        ordersBDaily, left_on='date', right_on='date', how='left'\n",
    "    )\n",
    "    .merge(ordersACummulative, left_on='date', right_on='date', how='left')\n",
    "    .merge(ordersBCummulative, left_on='date', right_on='date', how='left')\n",
    "    .merge(visitorsADaily, left_on='date', right_on='date', how='left')\n",
    "    .merge(visitorsBDaily, left_on='date', right_on='date', how='left')\n",
    "    .merge(visitorsACummulative, left_on='date', right_on='date', how='left')\n",
    "    .merge(visitorsBCummulative, left_on='date', right_on='date', how='left')\n",
    ")\n",
    "data.head()"
   ]
  },
  {
   "cell_type": "code",
   "execution_count": 40,
   "metadata": {},
   "outputs": [],
   "source": [
    "ordersByUsersA = (\n",
    "    orders[orders['group'] == 'A']\n",
    "    .groupby('visitor_id', as_index=False)\n",
    "    .agg({'transaction_id': pd.Series.nunique})\n",
    ")\n",
    "ordersByUsersA.columns = ['user_id', 'orders']\n",
    "\n",
    "ordersByUsersB = (\n",
    "    orders[orders['group'] == 'B']\n",
    "    .groupby('visitor_id', as_index=False)\n",
    "    .agg({'transaction_id': pd.Series.nunique})\n",
    ")\n",
    "ordersByUsersB.columns = ['user_id', 'orders'] "
   ]
  },
  {
   "cell_type": "code",
   "execution_count": 41,
   "metadata": {},
   "outputs": [],
   "source": [
    "pd.Series(0, index=np.arange(data['visitorsPerDateA'].sum() - len(ordersByUsersA['orders'])), name='orders')\n",
    "\n",
    "sampleA = pd.concat([ordersByUsersA['orders'],pd.Series(0, index=np.arange(data['visitorsPerDateA'].sum() - len(ordersByUsersA['orders'])), name='orders')],axis=0)\n",
    "sampleB = pd.concat([ordersByUsersB['orders'],pd.Series(0, index=np.arange(data['visitorsPerDateB'].sum() - len(ordersByUsersB['orders'])), name='orders')],axis=0)"
   ]
  },
  {
   "cell_type": "code",
   "execution_count": 42,
   "metadata": {},
   "outputs": [],
   "source": [
    "sampleA = pd.concat(\n",
    "    [\n",
    "        ordersByUsersA['orders'],\n",
    "        pd.Series(\n",
    "            0,\n",
    "            index=np.arange(\n",
    "                data['visitorsPerDateA'].sum() - len(ordersByUsersA['orders'])\n",
    "            ),\n",
    "            name='orders',\n",
    "        ),\n",
    "    ],\n",
    "    axis=0,\n",
    ")\n",
    "\n",
    "sampleB = pd.concat(\n",
    "    [\n",
    "        ordersByUsersB['orders'],\n",
    "        pd.Series(\n",
    "            0,\n",
    "            index=np.arange(\n",
    "                data['visitorsPerDateB'].sum() - len(ordersByUsersB['orders'])\n",
    "            ),\n",
    "            name='orders',\n",
    "        ),\n",
    "    ],\n",
    "    axis=0,\n",
    ")"
   ]
  },
  {
   "cell_type": "code",
   "execution_count": 43,
   "metadata": {},
   "outputs": [
    {
     "name": "stdout",
     "output_type": "stream",
     "text": [
      "0.017\n",
      "0.138\n"
     ]
    }
   ],
   "source": [
    "print(\"{0:.3f}\".format(stats.mannwhitneyu(sampleA, sampleB)[1]))\n",
    "\n",
    "print(\"{0:.3f}\".format(sampleB.mean() / sampleA.mean() - 1))"
   ]
  },
  {
   "cell_type": "code",
   "execution_count": 44,
   "metadata": {},
   "outputs": [],
   "source": [
    "conversion = (orders.groupby('group').agg({'transaction_id':'count'}).rename(columns={'transaction_id':'orders'}))\\\n",
    "                                     .join((visitors.groupby('group').agg({'visitors':'sum'}))).reset_index()\n",
    "conversion['conversion'] = conversion['orders'] / conversion['visitors']"
   ]
  },
  {
   "cell_type": "code",
   "execution_count": 45,
   "metadata": {},
   "outputs": [
    {
     "data": {
      "text/html": [
       "<div>\n",
       "<style scoped>\n",
       "    .dataframe tbody tr th:only-of-type {\n",
       "        vertical-align: middle;\n",
       "    }\n",
       "\n",
       "    .dataframe tbody tr th {\n",
       "        vertical-align: top;\n",
       "    }\n",
       "\n",
       "    .dataframe thead th {\n",
       "        text-align: right;\n",
       "    }\n",
       "</style>\n",
       "<table border=\"1\" class=\"dataframe\">\n",
       "  <thead>\n",
       "    <tr style=\"text-align: right;\">\n",
       "      <th></th>\n",
       "      <th>group</th>\n",
       "      <th>orders</th>\n",
       "      <th>visitors</th>\n",
       "      <th>conversion</th>\n",
       "    </tr>\n",
       "  </thead>\n",
       "  <tbody>\n",
       "    <tr>\n",
       "      <th>0</th>\n",
       "      <td>A</td>\n",
       "      <td>557</td>\n",
       "      <td>18736</td>\n",
       "      <td>0.029729</td>\n",
       "    </tr>\n",
       "    <tr>\n",
       "      <th>1</th>\n",
       "      <td>B</td>\n",
       "      <td>640</td>\n",
       "      <td>18916</td>\n",
       "      <td>0.033834</td>\n",
       "    </tr>\n",
       "  </tbody>\n",
       "</table>\n",
       "</div>"
      ],
      "text/plain": [
       "  group  orders  visitors  conversion\n",
       "0     A     557     18736    0.029729\n",
       "1     B     640     18916    0.033834"
      ]
     },
     "execution_count": 45,
     "metadata": {},
     "output_type": "execute_result"
    }
   ],
   "source": [
    "conversion"
   ]
  },
  {
   "cell_type": "markdown",
   "metadata": {},
   "source": [
    "### Статистическую значимость различий в среднем чеке заказа между группами по «сырым» данным"
   ]
  },
  {
   "cell_type": "code",
   "execution_count": 46,
   "metadata": {},
   "outputs": [
    {
     "data": {
      "text/plain": [
       "7333.578096947936"
      ]
     },
     "execution_count": 46,
     "metadata": {},
     "output_type": "execute_result"
    }
   ],
   "source": [
    "orders[orders['group']=='A']['revenue'].mean()"
   ]
  },
  {
   "cell_type": "code",
   "execution_count": 47,
   "metadata": {},
   "outputs": [
    {
     "data": {
      "text/plain": [
       "9230.875"
      ]
     },
     "execution_count": 47,
     "metadata": {},
     "output_type": "execute_result"
    }
   ],
   "source": [
    "orders[orders['group']=='B']['revenue'].mean()"
   ]
  },
  {
   "cell_type": "markdown",
   "metadata": {},
   "source": [
    "Используем критерий Манна-Уитни и выдвинем следующие гипотезы:\n",
    "\n",
    "Н0: Средний чек группы А равен среднему чеку в группе В.\n",
    "\n",
    "Н1: Средний чек в группе А не равен среднему чеку в группе В."
   ]
  },
  {
   "cell_type": "code",
   "execution_count": 48,
   "metadata": {},
   "outputs": [
    {
     "name": "stdout",
     "output_type": "stream",
     "text": [
      "0.729\n",
      "0.259\n"
     ]
    }
   ],
   "source": [
    "print('{0:.3f}'.format(stats.mannwhitneyu(orders[orders['group']=='A']['revenue'], orders[orders['group']=='B']['revenue'])[1]))\n",
    "print('{0:.3f}'.format(orders[orders['group']=='B']['revenue'].mean()/orders[orders['group']=='A']['revenue'].mean()-1)) "
   ]
  },
  {
   "cell_type": "markdown",
   "metadata": {},
   "source": [
    "Получается по \"сырым\" данным статистически значимой разницы между средними чеками в группах А и В нет. Относительная разница между чеками 25,9%, что очень много. В чем причина пока не понятно."
   ]
  },
  {
   "cell_type": "markdown",
   "metadata": {},
   "source": [
    "### Cтатистическая значимость различий в конверсии между группами по «очищенным» данным"
   ]
  },
  {
   "cell_type": "code",
   "execution_count": 49,
   "metadata": {},
   "outputs": [],
   "source": [
    "users_purchases = pd.concat(\n",
    "    [\n",
    "        ordersByUsersA[ordersByUsersA['orders'] > 3]['user_id'],\n",
    "        ordersByUsersB[ordersByUsersB['orders'] > 3]['user_id'],\n",
    "    ],\n",
    "    axis=0,\n",
    ")"
   ]
  },
  {
   "cell_type": "code",
   "execution_count": 50,
   "metadata": {},
   "outputs": [],
   "source": [
    "users_expensive = orders[orders['revenue'] > 58233]['visitor_id']"
   ]
  },
  {
   "cell_type": "code",
   "execution_count": 51,
   "metadata": {},
   "outputs": [],
   "source": [
    "notnormal_users = (\n",
    "    pd.concat([users_purchases, users_expensive], axis=0)\n",
    "    .drop_duplicates()\n",
    "    .sort_values()\n",
    ")"
   ]
  },
  {
   "cell_type": "code",
   "execution_count": 52,
   "metadata": {},
   "outputs": [
    {
     "name": "stdout",
     "output_type": "stream",
     "text": [
      "1099    148427295\n",
      "18      199603092\n",
      "23      237748145\n",
      "949     887908475\n",
      "744     888512513\n",
      "dtype: int64\n"
     ]
    }
   ],
   "source": [
    "print(notnormal_users.head())"
   ]
  },
  {
   "cell_type": "code",
   "execution_count": 53,
   "metadata": {},
   "outputs": [
    {
     "data": {
      "text/plain": [
       "(20,)"
      ]
     },
     "execution_count": 53,
     "metadata": {},
     "output_type": "execute_result"
    }
   ],
   "source": [
    "notnormal_users.shape"
   ]
  },
  {
   "cell_type": "code",
   "execution_count": 54,
   "metadata": {},
   "outputs": [],
   "source": [
    "sampleAFiltered = pd.concat(\n",
    "    [\n",
    "        ordersByUsersA[\n",
    "            np.logical_not(ordersByUsersA['user_id'].isin(notnormal_users))\n",
    "        ]['orders'],\n",
    "        pd.Series(\n",
    "            0,\n",
    "            index=np.arange(\n",
    "                data['visitorsPerDateA'].sum() - len(ordersByUsersA['orders'])\n",
    "            ),\n",
    "            name='orders',\n",
    "        ),\n",
    "    ],\n",
    "    axis=0,\n",
    ")\n",
    "\n",
    "sampleBFiltered = pd.concat(\n",
    "    [\n",
    "        ordersByUsersB[\n",
    "            np.logical_not(ordersByUsersB['user_id'].isin(notnormal_users))\n",
    "        ]['orders'],\n",
    "        pd.Series(\n",
    "            0,\n",
    "            index=np.arange(\n",
    "                data['visitorsPerDateB'].sum() - len(ordersByUsersB['orders'])\n",
    "            ),\n",
    "            name='orders',\n",
    "        ),\n",
    "    ],\n",
    "    axis=0,\n",
    ")"
   ]
  },
  {
   "cell_type": "markdown",
   "metadata": {},
   "source": [
    "Используем критерий Манна-Уитни и выдвинем следующие гипотезы:\n",
    "\n",
    "Н0: Конверсия в группе А равна конверсии в группе В.\n",
    "\n",
    "Н1: Конверсия в группе А не равна конверсии в группе В."
   ]
  },
  {
   "cell_type": "code",
   "execution_count": 55,
   "metadata": {},
   "outputs": [
    {
     "name": "stdout",
     "output_type": "stream",
     "text": [
      "0.014\n",
      "0.151\n"
     ]
    }
   ],
   "source": [
    "print('{0:.3f}'.format(stats.mannwhitneyu(sampleAFiltered, sampleBFiltered)[1]))\n",
    "print('{0:.3f}'.format(sampleBFiltered.mean()/sampleAFiltered.mean()-1)) "
   ]
  },
  {
   "cell_type": "code",
   "execution_count": 56,
   "metadata": {},
   "outputs": [],
   "source": [
    "orders_temp = orders[~orders['visitor_id'].isin(purchase_1p)]\n",
    "conversion_clear = (orders_temp.groupby('group').agg({'transaction_id':'count'})\\\n",
    ".rename(columns={'transaction_id':'orders'})).join((visitors.groupby('group').agg({'visitors':'sum'}))).reset_index()"
   ]
  },
  {
   "cell_type": "code",
   "execution_count": 57,
   "metadata": {},
   "outputs": [],
   "source": [
    "conversion_clear['conversion'] = conversion_clear['orders'] / conversion_clear['visitors']"
   ]
  },
  {
   "cell_type": "code",
   "execution_count": 58,
   "metadata": {},
   "outputs": [
    {
     "data": {
      "text/html": [
       "<div>\n",
       "<style scoped>\n",
       "    .dataframe tbody tr th:only-of-type {\n",
       "        vertical-align: middle;\n",
       "    }\n",
       "\n",
       "    .dataframe tbody tr th {\n",
       "        vertical-align: top;\n",
       "    }\n",
       "\n",
       "    .dataframe thead th {\n",
       "        text-align: right;\n",
       "    }\n",
       "</style>\n",
       "<table border=\"1\" class=\"dataframe\">\n",
       "  <thead>\n",
       "    <tr style=\"text-align: right;\">\n",
       "      <th></th>\n",
       "      <th>group</th>\n",
       "      <th>orders</th>\n",
       "      <th>visitors</th>\n",
       "      <th>conversion</th>\n",
       "    </tr>\n",
       "  </thead>\n",
       "  <tbody>\n",
       "    <tr>\n",
       "      <th>0</th>\n",
       "      <td>A</td>\n",
       "      <td>517</td>\n",
       "      <td>18736</td>\n",
       "      <td>0.027594</td>\n",
       "    </tr>\n",
       "    <tr>\n",
       "      <th>1</th>\n",
       "      <td>B</td>\n",
       "      <td>599</td>\n",
       "      <td>18916</td>\n",
       "      <td>0.031666</td>\n",
       "    </tr>\n",
       "  </tbody>\n",
       "</table>\n",
       "</div>"
      ],
      "text/plain": [
       "  group  orders  visitors  conversion\n",
       "0     A     517     18736    0.027594\n",
       "1     B     599     18916    0.031666"
      ]
     },
     "execution_count": 58,
     "metadata": {},
     "output_type": "execute_result"
    }
   ],
   "source": [
    "conversion_clear.head(5)"
   ]
  },
  {
   "cell_type": "markdown",
   "metadata": {},
   "source": [
    "### Статистическая значимость различий в среднем чеке заказа между группами по «очищенным» данным"
   ]
  },
  {
   "cell_type": "code",
   "execution_count": 59,
   "metadata": {},
   "outputs": [],
   "source": [
    "orders_filtered = orders.query('revenue <= 58233')"
   ]
  },
  {
   "cell_type": "code",
   "execution_count": 60,
   "metadata": {},
   "outputs": [
    {
     "data": {
      "text/plain": [
       "6470.587272727273"
      ]
     },
     "execution_count": 60,
     "metadata": {},
     "output_type": "execute_result"
    }
   ],
   "source": [
    "orders_filtered[orders_filtered['group']=='A']['revenue'].mean()"
   ]
  },
  {
   "cell_type": "code",
   "execution_count": 61,
   "metadata": {},
   "outputs": [
    {
     "data": {
      "text/plain": [
       "6592.692913385827"
      ]
     },
     "execution_count": 61,
     "metadata": {},
     "output_type": "execute_result"
    }
   ],
   "source": [
    "orders_filtered[orders_filtered['group']=='B']['revenue'].mean()"
   ]
  },
  {
   "cell_type": "markdown",
   "metadata": {},
   "source": [
    "Используем критерий Манна-Уитни и выдвинем следующие гипотезы:\n",
    "\n",
    "Н0: Средний чек в группе А равен среднему чеку в группе В.\n",
    "\n",
    "Н1: Средний чек в группе А не равен среднему чеку в группе В. "
   ]
  },
  {
   "cell_type": "code",
   "execution_count": 62,
   "metadata": {},
   "outputs": [
    {
     "name": "stdout",
     "output_type": "stream",
     "text": [
      "0.959\n"
     ]
    }
   ],
   "source": [
    "print(\n",
    "    '{0:.3f}'.format(\n",
    "        stats.mannwhitneyu(\n",
    "            orders[\n",
    "                np.logical_and(\n",
    "                    orders['group'] == 'A',\n",
    "                    np.logical_not(orders['visitor_id'].isin(notnormal_users)),\n",
    "                )\n",
    "            ]['revenue'],\n",
    "            orders[\n",
    "                np.logical_and(\n",
    "                    orders['group'] == 'B',\n",
    "                    np.logical_not(orders['visitor_id'].isin(notnormal_users)),)]['revenue'], True, 'two-sided')[1]))"
   ]
  },
  {
   "cell_type": "code",
   "execution_count": 63,
   "metadata": {},
   "outputs": [
    {
     "name": "stdout",
     "output_type": "stream",
     "text": [
      "-0.014\n"
     ]
    }
   ],
   "source": [
    "print(\n",
    "    \"{0:.3f}\".format(\n",
    "        orders[\n",
    "            np.logical_and(\n",
    "                orders['group'] == 'B',\n",
    "                np.logical_not(orders['visitor_id'].isin(notnormal_users)),\n",
    "            )\n",
    "        ]['revenue'].mean()\n",
    "        / orders[\n",
    "            np.logical_and(\n",
    "                orders['group'] == 'A',\n",
    "                np.logical_not(orders['visitor_id'].isin(notnormal_users)),\n",
    "            )]['revenue'].mean()- 1))"
   ]
  },
  {
   "cell_type": "markdown",
   "metadata": {},
   "source": [
    "# Выводы по результатам теста"
   ]
  },
  {
   "cell_type": "markdown",
   "metadata": {},
   "source": [
    "У нас были результаты А/В-теста за 1 месяц, графики в настоящий момент не стабилизировались, в связи с чем рекомендуется продолжать исследование. Конверсия у группы В в среднем выше, чем у группы А (на 15% по очщенным данным), а статистической значимой разницы в среднем чеке нет (у группы А средний чек выше на 1,4% по очищенным данным). \n",
    "\n",
    "Итог: продолжаем исследование."
   ]
  },
  {
   "cell_type": "markdown",
   "metadata": {},
   "source": [
    "Выводы по имеющимся гипотезам: \n",
    "\n",
    "1. После подсчета RICE, гипотеза №7 самая рабочая (Добавить форму подписки на все основные страницы).\n",
    "2. Если для компании охват менее важен, то после подсчет ICЕ самая рабочая гипотеза №8 (Запустить акцию, дающую скидку на товар в день рождения)."
   ]
  }
 ],
 "metadata": {
  "ExecuteTimeLog": [
   {
    "duration": 732,
    "start_time": "2022-05-23T07:15:09.852Z"
   },
   {
    "duration": 209,
    "start_time": "2022-05-23T07:16:31.810Z"
   },
   {
    "duration": 22,
    "start_time": "2022-05-23T07:16:42.585Z"
   },
   {
    "duration": 31,
    "start_time": "2022-05-23T07:16:58.980Z"
   },
   {
    "duration": 20,
    "start_time": "2022-05-23T07:17:22.886Z"
   },
   {
    "duration": 14,
    "start_time": "2022-05-23T07:17:42.345Z"
   },
   {
    "duration": 1485,
    "start_time": "2022-05-23T07:22:14.300Z"
   },
   {
    "duration": 45,
    "start_time": "2022-05-23T07:22:15.787Z"
   },
   {
    "duration": 12,
    "start_time": "2022-05-23T07:22:15.834Z"
   },
   {
    "duration": 11,
    "start_time": "2022-05-23T07:22:15.848Z"
   },
   {
    "duration": 46,
    "start_time": "2022-05-23T07:22:15.862Z"
   },
   {
    "duration": 14,
    "start_time": "2022-05-23T07:22:15.910Z"
   },
   {
    "duration": 14,
    "start_time": "2022-05-23T07:22:46.694Z"
   },
   {
    "duration": 15,
    "start_time": "2022-05-23T07:22:58.273Z"
   },
   {
    "duration": 15,
    "start_time": "2022-05-23T07:23:21.305Z"
   },
   {
    "duration": 141,
    "start_time": "2022-05-23T07:23:46.852Z"
   },
   {
    "duration": 5,
    "start_time": "2022-05-23T07:23:57.509Z"
   },
   {
    "duration": 8,
    "start_time": "2022-05-23T07:24:09.490Z"
   },
   {
    "duration": 5,
    "start_time": "2022-05-23T07:24:14.817Z"
   },
   {
    "duration": 7,
    "start_time": "2022-05-23T07:24:50.223Z"
   },
   {
    "duration": 7,
    "start_time": "2022-05-23T07:25:01.740Z"
   },
   {
    "duration": 227,
    "start_time": "2022-05-23T07:26:43.962Z"
   },
   {
    "duration": 444,
    "start_time": "2022-05-23T07:27:15.052Z"
   },
   {
    "duration": 327,
    "start_time": "2022-05-23T07:27:22.858Z"
   },
   {
    "duration": 13,
    "start_time": "2022-05-23T07:28:00.695Z"
   },
   {
    "duration": 340,
    "start_time": "2022-05-23T07:28:15.789Z"
   },
   {
    "duration": 9,
    "start_time": "2022-05-23T08:13:53.745Z"
   },
   {
    "duration": 8,
    "start_time": "2022-05-23T08:14:02.844Z"
   },
   {
    "duration": 4,
    "start_time": "2022-05-23T08:14:40.527Z"
   },
   {
    "duration": 3,
    "start_time": "2022-05-23T08:14:44.229Z"
   },
   {
    "duration": 45,
    "start_time": "2022-05-23T08:14:44.234Z"
   },
   {
    "duration": 11,
    "start_time": "2022-05-23T08:14:44.281Z"
   },
   {
    "duration": 10,
    "start_time": "2022-05-23T08:14:44.293Z"
   },
   {
    "duration": 10,
    "start_time": "2022-05-23T08:14:44.306Z"
   },
   {
    "duration": 13,
    "start_time": "2022-05-23T08:14:44.318Z"
   },
   {
    "duration": 12,
    "start_time": "2022-05-23T08:14:44.333Z"
   },
   {
    "duration": 23,
    "start_time": "2022-05-23T08:14:44.346Z"
   },
   {
    "duration": 13,
    "start_time": "2022-05-23T08:14:44.393Z"
   },
   {
    "duration": 9,
    "start_time": "2022-05-23T08:14:44.408Z"
   },
   {
    "duration": 6,
    "start_time": "2022-05-23T08:14:44.418Z"
   },
   {
    "duration": 12,
    "start_time": "2022-05-23T08:14:44.425Z"
   },
   {
    "duration": 11,
    "start_time": "2022-05-23T08:14:44.438Z"
   },
   {
    "duration": 11,
    "start_time": "2022-05-23T08:14:44.480Z"
   },
   {
    "duration": 291,
    "start_time": "2022-05-23T08:14:44.492Z"
   },
   {
    "duration": 15,
    "start_time": "2022-05-23T08:14:44.785Z"
   },
   {
    "duration": 301,
    "start_time": "2022-05-23T08:14:44.802Z"
   },
   {
    "duration": 9,
    "start_time": "2022-05-23T08:14:45.105Z"
   },
   {
    "duration": 11,
    "start_time": "2022-05-23T08:14:45.116Z"
   },
   {
    "duration": 20,
    "start_time": "2022-05-23T08:15:07.512Z"
   },
   {
    "duration": 17,
    "start_time": "2022-05-23T08:15:32.261Z"
   },
   {
    "duration": 5,
    "start_time": "2022-05-23T08:15:44.733Z"
   },
   {
    "duration": 6,
    "start_time": "2022-05-23T08:15:57.852Z"
   },
   {
    "duration": 10,
    "start_time": "2022-05-23T08:16:07.300Z"
   },
   {
    "duration": 3,
    "start_time": "2022-05-23T08:16:54.641Z"
   },
   {
    "duration": 44,
    "start_time": "2022-05-23T08:16:54.646Z"
   },
   {
    "duration": 10,
    "start_time": "2022-05-23T08:16:54.692Z"
   },
   {
    "duration": 11,
    "start_time": "2022-05-23T08:16:54.703Z"
   },
   {
    "duration": 12,
    "start_time": "2022-05-23T08:16:54.716Z"
   },
   {
    "duration": 12,
    "start_time": "2022-05-23T08:16:54.730Z"
   },
   {
    "duration": 3,
    "start_time": "2022-05-23T08:16:54.744Z"
   },
   {
    "duration": 20,
    "start_time": "2022-05-23T08:16:54.749Z"
   },
   {
    "duration": 12,
    "start_time": "2022-05-23T08:16:54.771Z"
   },
   {
    "duration": 6,
    "start_time": "2022-05-23T08:16:54.786Z"
   },
   {
    "duration": 8,
    "start_time": "2022-05-23T08:16:54.794Z"
   },
   {
    "duration": 10,
    "start_time": "2022-05-23T08:16:54.804Z"
   },
   {
    "duration": 8,
    "start_time": "2022-05-23T08:16:54.815Z"
   },
   {
    "duration": 41,
    "start_time": "2022-05-23T08:16:54.825Z"
   },
   {
    "duration": 300,
    "start_time": "2022-05-23T08:16:54.868Z"
   },
   {
    "duration": 12,
    "start_time": "2022-05-23T08:16:55.170Z"
   },
   {
    "duration": 272,
    "start_time": "2022-05-23T08:16:55.183Z"
   },
   {
    "duration": 11,
    "start_time": "2022-05-23T08:16:55.457Z"
   },
   {
    "duration": 10,
    "start_time": "2022-05-23T08:16:55.470Z"
   },
   {
    "duration": 18,
    "start_time": "2022-05-23T08:16:55.482Z"
   },
   {
    "duration": 0,
    "start_time": "2022-05-23T08:16:55.501Z"
   },
   {
    "duration": 0,
    "start_time": "2022-05-23T08:16:55.502Z"
   },
   {
    "duration": 0,
    "start_time": "2022-05-23T08:16:55.503Z"
   },
   {
    "duration": 0,
    "start_time": "2022-05-23T08:16:55.505Z"
   },
   {
    "duration": 20,
    "start_time": "2022-05-23T08:17:55.062Z"
   },
   {
    "duration": 17,
    "start_time": "2022-05-23T08:18:24.202Z"
   },
   {
    "duration": 5,
    "start_time": "2022-05-23T08:18:34.792Z"
   },
   {
    "duration": 5,
    "start_time": "2022-05-23T08:19:01.384Z"
   },
   {
    "duration": 11,
    "start_time": "2022-05-23T08:19:03.584Z"
   },
   {
    "duration": 563,
    "start_time": "2022-05-23T08:20:46.604Z"
   },
   {
    "duration": 18,
    "start_time": "2022-05-23T08:24:19.309Z"
   },
   {
    "duration": 209,
    "start_time": "2022-05-23T08:24:37.995Z"
   },
   {
    "duration": 15,
    "start_time": "2022-05-23T08:27:28.227Z"
   },
   {
    "duration": 341,
    "start_time": "2022-05-23T08:27:49.883Z"
   },
   {
    "duration": 309,
    "start_time": "2022-05-23T08:29:54.251Z"
   },
   {
    "duration": 303,
    "start_time": "2022-05-23T08:34:42.855Z"
   },
   {
    "duration": 9,
    "start_time": "2022-05-23T08:36:37.380Z"
   },
   {
    "duration": 6,
    "start_time": "2022-05-23T08:36:57.839Z"
   },
   {
    "duration": 14,
    "start_time": "2022-05-23T08:37:15.610Z"
   },
   {
    "duration": 116,
    "start_time": "2022-05-23T08:37:23.198Z"
   },
   {
    "duration": 10,
    "start_time": "2022-05-23T08:39:34.839Z"
   },
   {
    "duration": 4,
    "start_time": "2022-05-23T08:39:43.823Z"
   },
   {
    "duration": 4,
    "start_time": "2022-05-23T08:40:21.335Z"
   },
   {
    "duration": 4,
    "start_time": "2022-05-23T08:41:03.425Z"
   },
   {
    "duration": 5,
    "start_time": "2022-05-23T08:41:31.075Z"
   },
   {
    "duration": 143,
    "start_time": "2022-05-23T08:43:57.042Z"
   },
   {
    "duration": 5,
    "start_time": "2022-05-23T08:45:35.586Z"
   },
   {
    "duration": 4,
    "start_time": "2022-05-23T08:45:53.771Z"
   },
   {
    "duration": 11,
    "start_time": "2022-05-23T08:49:20.024Z"
   },
   {
    "duration": 8,
    "start_time": "2022-05-23T08:49:29.119Z"
   },
   {
    "duration": 7,
    "start_time": "2022-05-23T08:49:50.099Z"
   },
   {
    "duration": 53,
    "start_time": "2022-05-23T08:52:54.458Z"
   },
   {
    "duration": 7,
    "start_time": "2022-05-23T08:55:11.351Z"
   },
   {
    "duration": 16,
    "start_time": "2022-05-23T08:55:29.520Z"
   },
   {
    "duration": 13,
    "start_time": "2022-05-23T08:55:35.560Z"
   },
   {
    "duration": 8,
    "start_time": "2022-05-23T08:55:41.455Z"
   },
   {
    "duration": 7,
    "start_time": "2022-05-23T08:56:06.158Z"
   },
   {
    "duration": 8,
    "start_time": "2022-05-23T08:56:10.486Z"
   },
   {
    "duration": 9,
    "start_time": "2022-05-23T09:06:17.360Z"
   },
   {
    "duration": 13,
    "start_time": "2022-05-23T09:06:37.446Z"
   },
   {
    "duration": 10,
    "start_time": "2022-05-23T09:06:48.282Z"
   },
   {
    "duration": 10,
    "start_time": "2022-05-23T09:08:05.766Z"
   },
   {
    "duration": 11,
    "start_time": "2022-05-23T09:09:22.589Z"
   },
   {
    "duration": 8,
    "start_time": "2022-05-23T09:10:26.315Z"
   },
   {
    "duration": 5,
    "start_time": "2022-05-23T09:10:30.758Z"
   },
   {
    "duration": 7,
    "start_time": "2022-05-23T09:10:36.089Z"
   },
   {
    "duration": 12,
    "start_time": "2022-05-23T09:12:38.587Z"
   },
   {
    "duration": 8,
    "start_time": "2022-05-23T09:12:59.458Z"
   },
   {
    "duration": 7,
    "start_time": "2022-05-23T09:13:30.708Z"
   },
   {
    "duration": 28,
    "start_time": "2022-05-23T09:13:59.761Z"
   },
   {
    "duration": 45,
    "start_time": "2022-05-23T09:14:11.907Z"
   },
   {
    "duration": 11,
    "start_time": "2022-05-23T09:14:45.763Z"
   },
   {
    "duration": 6,
    "start_time": "2022-05-23T09:16:52.381Z"
   },
   {
    "duration": 10,
    "start_time": "2022-05-23T09:17:03.787Z"
   },
   {
    "duration": 10,
    "start_time": "2022-05-23T09:18:11.377Z"
   },
   {
    "duration": 5,
    "start_time": "2022-05-23T09:18:16.196Z"
   },
   {
    "duration": 11,
    "start_time": "2022-05-23T09:18:17.884Z"
   },
   {
    "duration": 6,
    "start_time": "2022-05-23T09:18:44.745Z"
   },
   {
    "duration": 6,
    "start_time": "2022-05-23T09:18:52.678Z"
   },
   {
    "duration": 5,
    "start_time": "2022-05-23T09:19:13.067Z"
   },
   {
    "duration": 5,
    "start_time": "2022-05-23T09:19:26.256Z"
   },
   {
    "duration": 7,
    "start_time": "2022-05-23T09:19:38.623Z"
   },
   {
    "duration": 10,
    "start_time": "2022-05-23T09:20:00.653Z"
   },
   {
    "duration": 1208,
    "start_time": "2022-05-24T10:51:46.677Z"
   },
   {
    "duration": 174,
    "start_time": "2022-05-24T10:51:47.887Z"
   },
   {
    "duration": 12,
    "start_time": "2022-05-24T10:51:48.063Z"
   },
   {
    "duration": 15,
    "start_time": "2022-05-24T10:51:48.078Z"
   },
   {
    "duration": 10,
    "start_time": "2022-05-24T10:51:48.095Z"
   },
   {
    "duration": 15,
    "start_time": "2022-05-24T10:51:48.107Z"
   },
   {
    "duration": 5,
    "start_time": "2022-05-24T10:51:48.124Z"
   },
   {
    "duration": 17,
    "start_time": "2022-05-24T10:51:48.131Z"
   },
   {
    "duration": 15,
    "start_time": "2022-05-24T10:51:48.150Z"
   },
   {
    "duration": 19,
    "start_time": "2022-05-24T10:51:48.168Z"
   },
   {
    "duration": 8,
    "start_time": "2022-05-24T10:51:48.189Z"
   },
   {
    "duration": 14,
    "start_time": "2022-05-24T10:51:48.199Z"
   },
   {
    "duration": 8,
    "start_time": "2022-05-24T10:51:48.215Z"
   },
   {
    "duration": 25,
    "start_time": "2022-05-24T10:51:48.225Z"
   },
   {
    "duration": 287,
    "start_time": "2022-05-24T10:51:48.252Z"
   },
   {
    "duration": 13,
    "start_time": "2022-05-24T10:51:48.541Z"
   },
   {
    "duration": 341,
    "start_time": "2022-05-24T10:51:48.556Z"
   },
   {
    "duration": 9,
    "start_time": "2022-05-24T10:51:48.899Z"
   },
   {
    "duration": 10,
    "start_time": "2022-05-24T10:51:48.909Z"
   },
   {
    "duration": 27,
    "start_time": "2022-05-24T10:51:48.941Z"
   },
   {
    "duration": 20,
    "start_time": "2022-05-24T10:51:48.970Z"
   },
   {
    "duration": 127,
    "start_time": "2022-05-24T10:51:48.992Z"
   },
   {
    "duration": 0,
    "start_time": "2022-05-24T10:51:49.122Z"
   },
   {
    "duration": 0,
    "start_time": "2022-05-24T10:51:49.123Z"
   },
   {
    "duration": 0,
    "start_time": "2022-05-24T10:51:49.125Z"
   },
   {
    "duration": 0,
    "start_time": "2022-05-24T10:51:49.127Z"
   },
   {
    "duration": 0,
    "start_time": "2022-05-24T10:51:49.142Z"
   },
   {
    "duration": 0,
    "start_time": "2022-05-24T10:51:49.144Z"
   },
   {
    "duration": 0,
    "start_time": "2022-05-24T10:51:49.145Z"
   },
   {
    "duration": 0,
    "start_time": "2022-05-24T10:51:49.148Z"
   },
   {
    "duration": 0,
    "start_time": "2022-05-24T10:51:49.150Z"
   },
   {
    "duration": 0,
    "start_time": "2022-05-24T10:51:49.152Z"
   },
   {
    "duration": 0,
    "start_time": "2022-05-24T10:51:49.153Z"
   },
   {
    "duration": 0,
    "start_time": "2022-05-24T10:51:49.155Z"
   },
   {
    "duration": 0,
    "start_time": "2022-05-24T10:51:49.157Z"
   },
   {
    "duration": 0,
    "start_time": "2022-05-24T10:51:49.159Z"
   },
   {
    "duration": 0,
    "start_time": "2022-05-24T10:51:49.160Z"
   },
   {
    "duration": 0,
    "start_time": "2022-05-24T10:51:49.162Z"
   },
   {
    "duration": 0,
    "start_time": "2022-05-24T10:51:49.163Z"
   },
   {
    "duration": 0,
    "start_time": "2022-05-24T10:51:49.165Z"
   },
   {
    "duration": 0,
    "start_time": "2022-05-24T10:51:49.166Z"
   },
   {
    "duration": 0,
    "start_time": "2022-05-24T10:51:49.168Z"
   },
   {
    "duration": 0,
    "start_time": "2022-05-24T10:51:49.169Z"
   },
   {
    "duration": 0,
    "start_time": "2022-05-24T10:51:49.170Z"
   },
   {
    "duration": 0,
    "start_time": "2022-05-24T10:51:49.172Z"
   },
   {
    "duration": 0,
    "start_time": "2022-05-24T10:51:49.176Z"
   },
   {
    "duration": 0,
    "start_time": "2022-05-24T10:51:49.177Z"
   },
   {
    "duration": 0,
    "start_time": "2022-05-24T10:51:49.178Z"
   },
   {
    "duration": 0,
    "start_time": "2022-05-24T10:51:49.179Z"
   },
   {
    "duration": 0,
    "start_time": "2022-05-24T10:51:49.180Z"
   },
   {
    "duration": 7,
    "start_time": "2022-05-24T11:49:06.523Z"
   },
   {
    "duration": 3,
    "start_time": "2022-05-24T11:49:11.056Z"
   },
   {
    "duration": 85,
    "start_time": "2022-05-24T11:49:11.064Z"
   },
   {
    "duration": 9,
    "start_time": "2022-05-24T11:49:11.151Z"
   },
   {
    "duration": 13,
    "start_time": "2022-05-24T11:49:11.162Z"
   },
   {
    "duration": 14,
    "start_time": "2022-05-24T11:49:11.177Z"
   },
   {
    "duration": 17,
    "start_time": "2022-05-24T11:49:11.193Z"
   },
   {
    "duration": 5,
    "start_time": "2022-05-24T11:49:11.211Z"
   },
   {
    "duration": 19,
    "start_time": "2022-05-24T11:49:11.217Z"
   },
   {
    "duration": 17,
    "start_time": "2022-05-24T11:49:11.237Z"
   },
   {
    "duration": 10,
    "start_time": "2022-05-24T11:49:11.256Z"
   },
   {
    "duration": 5,
    "start_time": "2022-05-24T11:49:11.267Z"
   },
   {
    "duration": 6,
    "start_time": "2022-05-24T11:49:11.274Z"
   },
   {
    "duration": 10,
    "start_time": "2022-05-24T11:49:11.282Z"
   },
   {
    "duration": 11,
    "start_time": "2022-05-24T11:49:11.294Z"
   },
   {
    "duration": 274,
    "start_time": "2022-05-24T11:49:11.331Z"
   },
   {
    "duration": 34,
    "start_time": "2022-05-24T11:49:11.606Z"
   },
   {
    "duration": 279,
    "start_time": "2022-05-24T11:49:11.642Z"
   },
   {
    "duration": 10,
    "start_time": "2022-05-24T11:49:11.922Z"
   },
   {
    "duration": 11,
    "start_time": "2022-05-24T11:49:11.933Z"
   },
   {
    "duration": 34,
    "start_time": "2022-05-24T11:49:11.946Z"
   },
   {
    "duration": 16,
    "start_time": "2022-05-24T11:49:11.982Z"
   },
   {
    "duration": 9,
    "start_time": "2022-05-24T11:49:12.000Z"
   },
   {
    "duration": 20,
    "start_time": "2022-05-24T11:49:12.010Z"
   },
   {
    "duration": 16,
    "start_time": "2022-05-24T11:49:12.031Z"
   },
   {
    "duration": 311,
    "start_time": "2022-05-24T11:49:12.048Z"
   },
   {
    "duration": 240,
    "start_time": "2022-05-24T11:49:12.360Z"
   },
   {
    "duration": 378,
    "start_time": "2022-05-24T11:49:12.603Z"
   },
   {
    "duration": 270,
    "start_time": "2022-05-24T11:49:12.983Z"
   },
   {
    "duration": 306,
    "start_time": "2022-05-24T11:49:13.255Z"
   },
   {
    "duration": 7,
    "start_time": "2022-05-24T11:49:13.563Z"
   },
   {
    "duration": 9,
    "start_time": "2022-05-24T11:49:13.571Z"
   },
   {
    "duration": 8,
    "start_time": "2022-05-24T11:49:13.582Z"
   },
   {
    "duration": 155,
    "start_time": "2022-05-24T11:49:13.591Z"
   },
   {
    "duration": 5,
    "start_time": "2022-05-24T11:49:13.748Z"
   },
   {
    "duration": 9,
    "start_time": "2022-05-24T11:49:13.754Z"
   },
   {
    "duration": 150,
    "start_time": "2022-05-24T11:49:13.764Z"
   },
   {
    "duration": 26,
    "start_time": "2022-05-24T11:49:13.916Z"
   },
   {
    "duration": 17,
    "start_time": "2022-05-24T11:49:13.947Z"
   },
   {
    "duration": 20,
    "start_time": "2022-05-24T11:49:13.966Z"
   },
   {
    "duration": 16,
    "start_time": "2022-05-24T11:49:13.988Z"
   },
   {
    "duration": 10,
    "start_time": "2022-05-24T11:49:14.006Z"
   },
   {
    "duration": 7,
    "start_time": "2022-05-24T11:49:14.020Z"
   },
   {
    "duration": 15,
    "start_time": "2022-05-24T11:49:14.030Z"
   },
   {
    "duration": 9,
    "start_time": "2022-05-24T11:49:14.047Z"
   },
   {
    "duration": 12,
    "start_time": "2022-05-24T11:49:14.058Z"
   },
   {
    "duration": 8,
    "start_time": "2022-05-24T11:49:14.072Z"
   },
   {
    "duration": 7,
    "start_time": "2022-05-24T11:49:14.082Z"
   },
   {
    "duration": 48,
    "start_time": "2022-05-24T11:49:14.090Z"
   },
   {
    "duration": 6,
    "start_time": "2022-05-24T11:49:14.140Z"
   },
   {
    "duration": 21,
    "start_time": "2022-05-24T11:49:14.147Z"
   },
   {
    "duration": 8,
    "start_time": "2022-05-24T11:54:59.800Z"
   },
   {
    "duration": 524,
    "start_time": "2022-05-24T11:56:50.863Z"
   },
   {
    "duration": 12,
    "start_time": "2022-05-24T11:57:00.736Z"
   },
   {
    "duration": 836,
    "start_time": "2022-05-24T11:57:04.006Z"
   },
   {
    "duration": 7,
    "start_time": "2022-05-24T11:57:18.139Z"
   },
   {
    "duration": 4,
    "start_time": "2022-05-24T11:58:03.559Z"
   },
   {
    "duration": 8,
    "start_time": "2022-05-24T11:58:05.203Z"
   },
   {
    "duration": 7,
    "start_time": "2022-05-24T11:58:10.839Z"
   },
   {
    "duration": 104,
    "start_time": "2022-05-24T12:28:59.534Z"
   },
   {
    "duration": 117,
    "start_time": "2022-05-24T12:29:37.809Z"
   },
   {
    "duration": 106,
    "start_time": "2022-05-24T12:29:58.058Z"
   },
   {
    "duration": 231,
    "start_time": "2022-05-24T12:30:10.878Z"
   },
   {
    "duration": 142,
    "start_time": "2022-05-24T12:31:10.571Z"
   },
   {
    "duration": 42,
    "start_time": "2022-05-24T12:31:34.280Z"
   },
   {
    "duration": 31,
    "start_time": "2022-05-24T12:32:06.199Z"
   },
   {
    "duration": 6,
    "start_time": "2022-05-24T12:32:41.397Z"
   },
   {
    "duration": 28,
    "start_time": "2022-05-24T12:32:56.015Z"
   },
   {
    "duration": 29,
    "start_time": "2022-05-24T12:33:01.108Z"
   },
   {
    "duration": 9,
    "start_time": "2022-05-24T12:38:28.737Z"
   },
   {
    "duration": 5,
    "start_time": "2022-05-24T12:41:34.134Z"
   },
   {
    "duration": 5,
    "start_time": "2022-05-24T12:42:21.556Z"
   },
   {
    "duration": 6,
    "start_time": "2022-05-24T12:43:04.815Z"
   },
   {
    "duration": 4,
    "start_time": "2022-05-24T12:43:14.857Z"
   },
   {
    "duration": 4,
    "start_time": "2022-05-24T12:43:31.587Z"
   },
   {
    "duration": 4,
    "start_time": "2022-05-24T12:43:47.060Z"
   },
   {
    "duration": 3,
    "start_time": "2022-05-24T12:44:13.097Z"
   },
   {
    "duration": 5,
    "start_time": "2022-05-24T12:44:33.766Z"
   },
   {
    "duration": 4,
    "start_time": "2022-05-24T12:44:43.307Z"
   },
   {
    "duration": 4,
    "start_time": "2022-05-24T12:44:55.856Z"
   },
   {
    "duration": 9,
    "start_time": "2022-05-24T12:47:17.478Z"
   },
   {
    "duration": 27,
    "start_time": "2022-05-24T12:47:30.345Z"
   },
   {
    "duration": 28,
    "start_time": "2022-05-24T12:47:34.285Z"
   },
   {
    "duration": 11,
    "start_time": "2022-05-24T12:48:01.103Z"
   },
   {
    "duration": 5,
    "start_time": "2022-05-24T12:48:01.821Z"
   },
   {
    "duration": 9,
    "start_time": "2022-05-24T12:48:02.456Z"
   },
   {
    "duration": 11,
    "start_time": "2022-05-24T12:52:06.662Z"
   },
   {
    "duration": 8,
    "start_time": "2022-05-24T12:53:01.137Z"
   },
   {
    "duration": 1186,
    "start_time": "2022-05-24T12:58:40.684Z"
   },
   {
    "duration": 76,
    "start_time": "2022-05-24T12:58:41.872Z"
   },
   {
    "duration": 14,
    "start_time": "2022-05-24T12:58:41.950Z"
   },
   {
    "duration": 17,
    "start_time": "2022-05-24T12:58:41.966Z"
   },
   {
    "duration": 14,
    "start_time": "2022-05-24T12:58:41.985Z"
   },
   {
    "duration": 22,
    "start_time": "2022-05-24T12:58:42.001Z"
   },
   {
    "duration": 5,
    "start_time": "2022-05-24T12:58:42.025Z"
   },
   {
    "duration": 14,
    "start_time": "2022-05-24T12:58:42.032Z"
   },
   {
    "duration": 14,
    "start_time": "2022-05-24T12:58:42.047Z"
   },
   {
    "duration": 6,
    "start_time": "2022-05-24T12:58:42.064Z"
   },
   {
    "duration": 5,
    "start_time": "2022-05-24T12:58:42.071Z"
   },
   {
    "duration": 8,
    "start_time": "2022-05-24T12:58:42.077Z"
   },
   {
    "duration": 38,
    "start_time": "2022-05-24T12:58:42.086Z"
   },
   {
    "duration": 13,
    "start_time": "2022-05-24T12:58:42.126Z"
   },
   {
    "duration": 308,
    "start_time": "2022-05-24T12:58:42.141Z"
   },
   {
    "duration": 12,
    "start_time": "2022-05-24T12:58:42.451Z"
   },
   {
    "duration": 414,
    "start_time": "2022-05-24T12:58:42.464Z"
   },
   {
    "duration": 9,
    "start_time": "2022-05-24T12:58:42.880Z"
   },
   {
    "duration": 9,
    "start_time": "2022-05-24T12:58:42.891Z"
   },
   {
    "duration": 36,
    "start_time": "2022-05-24T12:58:42.902Z"
   },
   {
    "duration": 15,
    "start_time": "2022-05-24T12:58:42.940Z"
   },
   {
    "duration": 8,
    "start_time": "2022-05-24T12:58:42.956Z"
   },
   {
    "duration": 8,
    "start_time": "2022-05-24T12:58:42.966Z"
   },
   {
    "duration": 14,
    "start_time": "2022-05-24T12:58:42.975Z"
   },
   {
    "duration": 329,
    "start_time": "2022-05-24T12:58:42.991Z"
   },
   {
    "duration": 194,
    "start_time": "2022-05-24T12:58:43.322Z"
   },
   {
    "duration": 305,
    "start_time": "2022-05-24T12:58:43.522Z"
   },
   {
    "duration": 225,
    "start_time": "2022-05-24T12:58:43.832Z"
   },
   {
    "duration": 284,
    "start_time": "2022-05-24T12:58:44.059Z"
   },
   {
    "duration": 7,
    "start_time": "2022-05-24T12:58:44.344Z"
   },
   {
    "duration": 6,
    "start_time": "2022-05-24T12:58:44.353Z"
   },
   {
    "duration": 6,
    "start_time": "2022-05-24T12:58:44.361Z"
   },
   {
    "duration": 140,
    "start_time": "2022-05-24T12:58:44.368Z"
   },
   {
    "duration": 15,
    "start_time": "2022-05-24T12:58:44.509Z"
   },
   {
    "duration": 7,
    "start_time": "2022-05-24T12:58:44.526Z"
   },
   {
    "duration": 145,
    "start_time": "2022-05-24T12:58:44.535Z"
   },
   {
    "duration": 5,
    "start_time": "2022-05-24T12:58:44.681Z"
   },
   {
    "duration": 8,
    "start_time": "2022-05-24T12:58:44.688Z"
   },
   {
    "duration": 255,
    "start_time": "2022-05-24T12:58:44.698Z"
   },
   {
    "duration": 140,
    "start_time": "2022-05-24T12:58:44.954Z"
   },
   {
    "duration": 6,
    "start_time": "2022-05-24T12:58:45.096Z"
   },
   {
    "duration": 0,
    "start_time": "2022-05-24T12:58:45.104Z"
   },
   {
    "duration": 0,
    "start_time": "2022-05-24T12:58:45.105Z"
   },
   {
    "duration": 0,
    "start_time": "2022-05-24T12:58:45.124Z"
   },
   {
    "duration": 0,
    "start_time": "2022-05-24T12:58:45.125Z"
   },
   {
    "duration": 0,
    "start_time": "2022-05-24T12:58:45.126Z"
   },
   {
    "duration": 0,
    "start_time": "2022-05-24T12:58:45.127Z"
   },
   {
    "duration": 0,
    "start_time": "2022-05-24T12:58:45.128Z"
   },
   {
    "duration": 0,
    "start_time": "2022-05-24T12:58:45.130Z"
   },
   {
    "duration": 0,
    "start_time": "2022-05-24T12:58:45.130Z"
   },
   {
    "duration": 0,
    "start_time": "2022-05-24T12:58:45.132Z"
   },
   {
    "duration": 0,
    "start_time": "2022-05-24T12:58:45.132Z"
   },
   {
    "duration": 0,
    "start_time": "2022-05-24T12:58:45.133Z"
   },
   {
    "duration": 0,
    "start_time": "2022-05-24T12:58:45.134Z"
   },
   {
    "duration": 0,
    "start_time": "2022-05-24T12:58:45.135Z"
   },
   {
    "duration": 0,
    "start_time": "2022-05-24T12:58:45.137Z"
   },
   {
    "duration": 0,
    "start_time": "2022-05-24T12:58:45.138Z"
   },
   {
    "duration": 0,
    "start_time": "2022-05-24T12:58:45.139Z"
   },
   {
    "duration": 0,
    "start_time": "2022-05-24T12:58:45.140Z"
   },
   {
    "duration": 0,
    "start_time": "2022-05-24T12:58:45.141Z"
   },
   {
    "duration": 0,
    "start_time": "2022-05-24T12:58:45.142Z"
   },
   {
    "duration": 0,
    "start_time": "2022-05-24T12:58:45.143Z"
   },
   {
    "duration": 0,
    "start_time": "2022-05-24T12:58:45.144Z"
   },
   {
    "duration": 6,
    "start_time": "2022-05-24T12:58:57.149Z"
   },
   {
    "duration": 7,
    "start_time": "2022-05-24T12:59:00.392Z"
   },
   {
    "duration": 29,
    "start_time": "2022-05-24T12:59:03.732Z"
   },
   {
    "duration": 17,
    "start_time": "2022-05-24T12:59:05.968Z"
   },
   {
    "duration": 8,
    "start_time": "2022-05-24T12:59:06.871Z"
   },
   {
    "duration": 6,
    "start_time": "2022-05-24T13:00:36.739Z"
   },
   {
    "duration": 7,
    "start_time": "2022-05-24T13:00:37.532Z"
   },
   {
    "duration": 14,
    "start_time": "2022-05-24T13:00:39.265Z"
   },
   {
    "duration": 6,
    "start_time": "2022-05-24T13:00:41.643Z"
   },
   {
    "duration": 4,
    "start_time": "2022-05-24T13:00:42.430Z"
   },
   {
    "duration": 5,
    "start_time": "2022-05-24T13:00:44.356Z"
   },
   {
    "duration": 3,
    "start_time": "2022-05-24T13:00:45.219Z"
   },
   {
    "duration": 4,
    "start_time": "2022-05-24T13:00:46.201Z"
   },
   {
    "duration": 9,
    "start_time": "2022-05-24T13:00:47.231Z"
   },
   {
    "duration": 28,
    "start_time": "2022-05-24T13:00:49.712Z"
   },
   {
    "duration": 11,
    "start_time": "2022-05-24T13:00:51.406Z"
   },
   {
    "duration": 5,
    "start_time": "2022-05-24T13:00:52.093Z"
   },
   {
    "duration": 14,
    "start_time": "2022-05-24T13:00:52.778Z"
   },
   {
    "duration": 6,
    "start_time": "2022-05-24T13:00:54.354Z"
   },
   {
    "duration": 7,
    "start_time": "2022-05-24T13:00:55.397Z"
   },
   {
    "duration": 7,
    "start_time": "2022-05-24T13:00:56.128Z"
   },
   {
    "duration": 13,
    "start_time": "2022-05-24T13:00:57.869Z"
   },
   {
    "duration": 9,
    "start_time": "2022-05-24T13:00:58.730Z"
   },
   {
    "duration": 1213,
    "start_time": "2022-05-25T12:17:34.951Z"
   },
   {
    "duration": 73,
    "start_time": "2022-05-25T12:17:36.166Z"
   },
   {
    "duration": 12,
    "start_time": "2022-05-25T12:17:36.241Z"
   },
   {
    "duration": 17,
    "start_time": "2022-05-25T12:17:36.255Z"
   },
   {
    "duration": 10,
    "start_time": "2022-05-25T12:17:36.274Z"
   },
   {
    "duration": 15,
    "start_time": "2022-05-25T12:17:36.286Z"
   },
   {
    "duration": 4,
    "start_time": "2022-05-25T12:17:36.303Z"
   },
   {
    "duration": 34,
    "start_time": "2022-05-25T12:17:36.308Z"
   },
   {
    "duration": 12,
    "start_time": "2022-05-25T12:17:36.344Z"
   },
   {
    "duration": 8,
    "start_time": "2022-05-25T12:17:36.358Z"
   },
   {
    "duration": 8,
    "start_time": "2022-05-25T12:17:36.368Z"
   },
   {
    "duration": 8,
    "start_time": "2022-05-25T12:17:36.377Z"
   },
   {
    "duration": 7,
    "start_time": "2022-05-25T12:17:36.386Z"
   },
   {
    "duration": 27,
    "start_time": "2022-05-25T12:17:36.395Z"
   },
   {
    "duration": 297,
    "start_time": "2022-05-25T12:17:36.423Z"
   },
   {
    "duration": 16,
    "start_time": "2022-05-25T12:17:36.728Z"
   },
   {
    "duration": 344,
    "start_time": "2022-05-25T12:17:36.745Z"
   },
   {
    "duration": 9,
    "start_time": "2022-05-25T12:17:37.090Z"
   },
   {
    "duration": 26,
    "start_time": "2022-05-25T12:17:37.101Z"
   },
   {
    "duration": 27,
    "start_time": "2022-05-25T12:17:37.129Z"
   },
   {
    "duration": 18,
    "start_time": "2022-05-25T12:17:37.157Z"
   },
   {
    "duration": 10,
    "start_time": "2022-05-25T12:17:37.177Z"
   },
   {
    "duration": 7,
    "start_time": "2022-05-25T12:17:37.189Z"
   },
   {
    "duration": 25,
    "start_time": "2022-05-25T12:17:37.213Z"
   },
   {
    "duration": 404,
    "start_time": "2022-05-25T12:17:37.240Z"
   },
   {
    "duration": 209,
    "start_time": "2022-05-25T12:17:37.646Z"
   },
   {
    "duration": 300,
    "start_time": "2022-05-25T12:17:37.857Z"
   },
   {
    "duration": 236,
    "start_time": "2022-05-25T12:17:38.161Z"
   },
   {
    "duration": 325,
    "start_time": "2022-05-25T12:17:38.399Z"
   },
   {
    "duration": 9,
    "start_time": "2022-05-25T12:17:38.730Z"
   },
   {
    "duration": 13,
    "start_time": "2022-05-25T12:17:38.741Z"
   },
   {
    "duration": 13,
    "start_time": "2022-05-25T12:17:38.756Z"
   },
   {
    "duration": 156,
    "start_time": "2022-05-25T12:17:38.771Z"
   },
   {
    "duration": 6,
    "start_time": "2022-05-25T12:17:38.928Z"
   },
   {
    "duration": 5,
    "start_time": "2022-05-25T12:17:38.936Z"
   },
   {
    "duration": 129,
    "start_time": "2022-05-25T12:17:38.943Z"
   },
   {
    "duration": 5,
    "start_time": "2022-05-25T12:17:39.074Z"
   },
   {
    "duration": 6,
    "start_time": "2022-05-25T12:17:39.081Z"
   },
   {
    "duration": 251,
    "start_time": "2022-05-25T12:17:39.089Z"
   },
   {
    "duration": 164,
    "start_time": "2022-05-25T12:17:39.342Z"
   },
   {
    "duration": 7,
    "start_time": "2022-05-25T12:17:39.508Z"
   },
   {
    "duration": 0,
    "start_time": "2022-05-25T12:17:39.519Z"
   },
   {
    "duration": 0,
    "start_time": "2022-05-25T12:17:39.519Z"
   },
   {
    "duration": 0,
    "start_time": "2022-05-25T12:17:39.520Z"
   },
   {
    "duration": 0,
    "start_time": "2022-05-25T12:17:39.521Z"
   },
   {
    "duration": 0,
    "start_time": "2022-05-25T12:17:39.521Z"
   },
   {
    "duration": 0,
    "start_time": "2022-05-25T12:17:39.522Z"
   },
   {
    "duration": 0,
    "start_time": "2022-05-25T12:17:39.523Z"
   },
   {
    "duration": 0,
    "start_time": "2022-05-25T12:17:39.524Z"
   },
   {
    "duration": 0,
    "start_time": "2022-05-25T12:17:39.524Z"
   },
   {
    "duration": 0,
    "start_time": "2022-05-25T12:17:39.525Z"
   },
   {
    "duration": 0,
    "start_time": "2022-05-25T12:17:39.526Z"
   },
   {
    "duration": 0,
    "start_time": "2022-05-25T12:17:39.527Z"
   },
   {
    "duration": 0,
    "start_time": "2022-05-25T12:17:39.530Z"
   },
   {
    "duration": 0,
    "start_time": "2022-05-25T12:17:39.531Z"
   },
   {
    "duration": 0,
    "start_time": "2022-05-25T12:17:39.532Z"
   },
   {
    "duration": 0,
    "start_time": "2022-05-25T12:17:39.535Z"
   },
   {
    "duration": 0,
    "start_time": "2022-05-25T12:17:39.536Z"
   },
   {
    "duration": 0,
    "start_time": "2022-05-25T12:17:39.537Z"
   },
   {
    "duration": 0,
    "start_time": "2022-05-25T12:17:39.541Z"
   },
   {
    "duration": 1,
    "start_time": "2022-05-25T12:17:39.541Z"
   },
   {
    "duration": 0,
    "start_time": "2022-05-25T12:17:39.542Z"
   },
   {
    "duration": 0,
    "start_time": "2022-05-25T12:17:39.543Z"
   },
   {
    "duration": 1379,
    "start_time": "2022-05-25T13:23:31.973Z"
   },
   {
    "duration": 223,
    "start_time": "2022-05-25T13:23:33.355Z"
   },
   {
    "duration": 18,
    "start_time": "2022-05-25T13:23:33.581Z"
   },
   {
    "duration": 18,
    "start_time": "2022-05-25T13:23:33.602Z"
   },
   {
    "duration": 15,
    "start_time": "2022-05-25T13:23:33.622Z"
   },
   {
    "duration": 19,
    "start_time": "2022-05-25T13:23:33.639Z"
   },
   {
    "duration": 7,
    "start_time": "2022-05-25T13:23:33.659Z"
   },
   {
    "duration": 12,
    "start_time": "2022-05-25T13:23:33.668Z"
   },
   {
    "duration": 33,
    "start_time": "2022-05-25T13:23:33.682Z"
   },
   {
    "duration": 8,
    "start_time": "2022-05-25T13:23:33.718Z"
   },
   {
    "duration": 7,
    "start_time": "2022-05-25T13:23:33.727Z"
   },
   {
    "duration": 10,
    "start_time": "2022-05-25T13:23:33.735Z"
   },
   {
    "duration": 6,
    "start_time": "2022-05-25T13:23:33.747Z"
   },
   {
    "duration": 13,
    "start_time": "2022-05-25T13:23:33.755Z"
   },
   {
    "duration": 311,
    "start_time": "2022-05-25T13:23:33.770Z"
   },
   {
    "duration": 12,
    "start_time": "2022-05-25T13:23:34.083Z"
   },
   {
    "duration": 337,
    "start_time": "2022-05-25T13:23:34.097Z"
   },
   {
    "duration": 13,
    "start_time": "2022-05-25T13:23:34.436Z"
   },
   {
    "duration": 15,
    "start_time": "2022-05-25T13:23:34.451Z"
   },
   {
    "duration": 44,
    "start_time": "2022-05-25T13:23:34.468Z"
   },
   {
    "duration": 18,
    "start_time": "2022-05-25T13:23:34.514Z"
   },
   {
    "duration": 7,
    "start_time": "2022-05-25T13:23:34.534Z"
   },
   {
    "duration": 9,
    "start_time": "2022-05-25T13:23:34.543Z"
   },
   {
    "duration": 13,
    "start_time": "2022-05-25T13:23:34.554Z"
   },
   {
    "duration": 350,
    "start_time": "2022-05-25T13:23:34.569Z"
   },
   {
    "duration": 221,
    "start_time": "2022-05-25T13:23:34.921Z"
   },
   {
    "duration": 369,
    "start_time": "2022-05-25T13:23:35.143Z"
   },
   {
    "duration": 255,
    "start_time": "2022-05-25T13:23:35.516Z"
   },
   {
    "duration": 355,
    "start_time": "2022-05-25T13:23:35.773Z"
   },
   {
    "duration": 7,
    "start_time": "2022-05-25T13:23:36.130Z"
   },
   {
    "duration": 17,
    "start_time": "2022-05-25T13:23:36.138Z"
   },
   {
    "duration": 13,
    "start_time": "2022-05-25T13:23:36.158Z"
   },
   {
    "duration": 155,
    "start_time": "2022-05-25T13:23:36.173Z"
   },
   {
    "duration": 6,
    "start_time": "2022-05-25T13:23:36.330Z"
   },
   {
    "duration": 11,
    "start_time": "2022-05-25T13:23:36.338Z"
   },
   {
    "duration": 214,
    "start_time": "2022-05-25T13:23:36.352Z"
   },
   {
    "duration": 5,
    "start_time": "2022-05-25T13:23:36.568Z"
   },
   {
    "duration": 7,
    "start_time": "2022-05-25T13:23:36.575Z"
   },
   {
    "duration": 309,
    "start_time": "2022-05-25T13:23:36.584Z"
   },
   {
    "duration": 167,
    "start_time": "2022-05-25T13:23:36.894Z"
   },
   {
    "duration": 32,
    "start_time": "2022-05-25T13:23:37.063Z"
   },
   {
    "duration": 0,
    "start_time": "2022-05-25T13:23:37.097Z"
   },
   {
    "duration": 0,
    "start_time": "2022-05-25T13:23:37.098Z"
   },
   {
    "duration": 0,
    "start_time": "2022-05-25T13:23:37.100Z"
   },
   {
    "duration": 0,
    "start_time": "2022-05-25T13:23:37.101Z"
   },
   {
    "duration": 0,
    "start_time": "2022-05-25T13:23:37.102Z"
   },
   {
    "duration": 0,
    "start_time": "2022-05-25T13:23:37.103Z"
   },
   {
    "duration": 0,
    "start_time": "2022-05-25T13:23:37.105Z"
   },
   {
    "duration": 0,
    "start_time": "2022-05-25T13:23:37.106Z"
   },
   {
    "duration": 0,
    "start_time": "2022-05-25T13:23:37.107Z"
   },
   {
    "duration": 0,
    "start_time": "2022-05-25T13:23:37.109Z"
   },
   {
    "duration": 0,
    "start_time": "2022-05-25T13:23:37.112Z"
   },
   {
    "duration": 0,
    "start_time": "2022-05-25T13:23:37.113Z"
   },
   {
    "duration": 0,
    "start_time": "2022-05-25T13:23:37.115Z"
   },
   {
    "duration": 0,
    "start_time": "2022-05-25T13:23:37.116Z"
   },
   {
    "duration": 0,
    "start_time": "2022-05-25T13:23:37.118Z"
   },
   {
    "duration": 0,
    "start_time": "2022-05-25T13:23:37.119Z"
   },
   {
    "duration": 0,
    "start_time": "2022-05-25T13:23:37.121Z"
   },
   {
    "duration": 0,
    "start_time": "2022-05-25T13:23:37.122Z"
   },
   {
    "duration": 0,
    "start_time": "2022-05-25T13:23:37.123Z"
   },
   {
    "duration": 0,
    "start_time": "2022-05-25T13:23:37.126Z"
   },
   {
    "duration": 0,
    "start_time": "2022-05-25T13:23:37.128Z"
   },
   {
    "duration": 0,
    "start_time": "2022-05-25T13:23:37.129Z"
   },
   {
    "duration": 295,
    "start_time": "2022-05-25T13:24:36.162Z"
   },
   {
    "duration": 10,
    "start_time": "2022-05-25T13:26:57.754Z"
   },
   {
    "duration": 6,
    "start_time": "2022-05-25T13:27:00.253Z"
   },
   {
    "duration": 29,
    "start_time": "2022-05-25T13:27:01.816Z"
   },
   {
    "duration": 12,
    "start_time": "2022-05-25T13:27:02.923Z"
   },
   {
    "duration": 9,
    "start_time": "2022-05-25T13:27:04.810Z"
   },
   {
    "duration": 4,
    "start_time": "2022-05-25T13:27:07.793Z"
   },
   {
    "duration": 83,
    "start_time": "2022-05-25T13:27:07.800Z"
   },
   {
    "duration": 12,
    "start_time": "2022-05-25T13:27:07.885Z"
   },
   {
    "duration": 12,
    "start_time": "2022-05-25T13:27:07.899Z"
   },
   {
    "duration": 12,
    "start_time": "2022-05-25T13:27:07.914Z"
   },
   {
    "duration": 15,
    "start_time": "2022-05-25T13:27:07.928Z"
   },
   {
    "duration": 4,
    "start_time": "2022-05-25T13:27:07.945Z"
   },
   {
    "duration": 13,
    "start_time": "2022-05-25T13:27:07.951Z"
   },
   {
    "duration": 46,
    "start_time": "2022-05-25T13:27:07.966Z"
   },
   {
    "duration": 14,
    "start_time": "2022-05-25T13:27:08.015Z"
   },
   {
    "duration": 7,
    "start_time": "2022-05-25T13:27:08.034Z"
   },
   {
    "duration": 7,
    "start_time": "2022-05-25T13:27:08.043Z"
   },
   {
    "duration": 10,
    "start_time": "2022-05-25T13:27:08.051Z"
   },
   {
    "duration": 19,
    "start_time": "2022-05-25T13:27:08.063Z"
   },
   {
    "duration": 414,
    "start_time": "2022-05-25T13:27:08.084Z"
   },
   {
    "duration": 28,
    "start_time": "2022-05-25T13:27:08.500Z"
   },
   {
    "duration": 346,
    "start_time": "2022-05-25T13:27:08.530Z"
   },
   {
    "duration": 9,
    "start_time": "2022-05-25T13:27:08.877Z"
   },
   {
    "duration": 25,
    "start_time": "2022-05-25T13:27:08.887Z"
   },
   {
    "duration": 16,
    "start_time": "2022-05-25T13:27:08.914Z"
   },
   {
    "duration": 22,
    "start_time": "2022-05-25T13:27:08.932Z"
   },
   {
    "duration": 4,
    "start_time": "2022-05-25T13:27:08.957Z"
   },
   {
    "duration": 11,
    "start_time": "2022-05-25T13:27:08.963Z"
   },
   {
    "duration": 18,
    "start_time": "2022-05-25T13:27:08.976Z"
   },
   {
    "duration": 206,
    "start_time": "2022-05-25T13:27:09.011Z"
   },
   {
    "duration": 218,
    "start_time": "2022-05-25T13:27:09.218Z"
   },
   {
    "duration": 287,
    "start_time": "2022-05-25T13:27:09.438Z"
   },
   {
    "duration": 215,
    "start_time": "2022-05-25T13:27:09.727Z"
   },
   {
    "duration": 273,
    "start_time": "2022-05-25T13:27:09.946Z"
   },
   {
    "duration": 8,
    "start_time": "2022-05-25T13:27:10.221Z"
   },
   {
    "duration": 9,
    "start_time": "2022-05-25T13:27:10.231Z"
   },
   {
    "duration": 9,
    "start_time": "2022-05-25T13:27:10.242Z"
   },
   {
    "duration": 138,
    "start_time": "2022-05-25T13:27:10.253Z"
   },
   {
    "duration": 6,
    "start_time": "2022-05-25T13:27:10.392Z"
   },
   {
    "duration": 17,
    "start_time": "2022-05-25T13:27:10.399Z"
   },
   {
    "duration": 137,
    "start_time": "2022-05-25T13:27:10.418Z"
   },
   {
    "duration": 4,
    "start_time": "2022-05-25T13:27:10.556Z"
   },
   {
    "duration": 7,
    "start_time": "2022-05-25T13:27:10.562Z"
   },
   {
    "duration": 242,
    "start_time": "2022-05-25T13:27:10.571Z"
   },
   {
    "duration": 144,
    "start_time": "2022-05-25T13:27:10.815Z"
   },
   {
    "duration": 8,
    "start_time": "2022-05-25T13:27:10.961Z"
   },
   {
    "duration": 9,
    "start_time": "2022-05-25T13:27:10.970Z"
   },
   {
    "duration": 54,
    "start_time": "2022-05-25T13:27:10.982Z"
   },
   {
    "duration": 15,
    "start_time": "2022-05-25T13:27:11.038Z"
   },
   {
    "duration": 10,
    "start_time": "2022-05-25T13:27:11.055Z"
   },
   {
    "duration": 10,
    "start_time": "2022-05-25T13:27:11.067Z"
   },
   {
    "duration": 9,
    "start_time": "2022-05-25T13:27:11.078Z"
   },
   {
    "duration": 13,
    "start_time": "2022-05-25T13:27:11.113Z"
   },
   {
    "duration": 8,
    "start_time": "2022-05-25T13:27:11.128Z"
   },
   {
    "duration": 6,
    "start_time": "2022-05-25T13:27:11.138Z"
   },
   {
    "duration": 6,
    "start_time": "2022-05-25T13:27:11.146Z"
   },
   {
    "duration": 5,
    "start_time": "2022-05-25T13:27:11.154Z"
   },
   {
    "duration": 8,
    "start_time": "2022-05-25T13:27:11.161Z"
   },
   {
    "duration": 48,
    "start_time": "2022-05-25T13:27:11.171Z"
   },
   {
    "duration": 47,
    "start_time": "2022-05-25T13:27:11.221Z"
   },
   {
    "duration": 11,
    "start_time": "2022-05-25T13:27:11.270Z"
   },
   {
    "duration": 6,
    "start_time": "2022-05-25T13:27:11.283Z"
   },
   {
    "duration": 28,
    "start_time": "2022-05-25T13:27:11.291Z"
   },
   {
    "duration": 10,
    "start_time": "2022-05-25T13:27:11.321Z"
   },
   {
    "duration": 12,
    "start_time": "2022-05-25T13:27:11.333Z"
   },
   {
    "duration": 9,
    "start_time": "2022-05-25T13:27:11.347Z"
   },
   {
    "duration": 18,
    "start_time": "2022-05-25T13:27:11.357Z"
   },
   {
    "duration": 39,
    "start_time": "2022-05-25T13:27:11.378Z"
   },
   {
    "duration": 1229,
    "start_time": "2022-05-25T20:27:47.794Z"
   },
   {
    "duration": 83,
    "start_time": "2022-05-25T20:27:49.025Z"
   },
   {
    "duration": 13,
    "start_time": "2022-05-25T20:27:49.109Z"
   },
   {
    "duration": 13,
    "start_time": "2022-05-25T20:27:49.124Z"
   },
   {
    "duration": 53,
    "start_time": "2022-05-25T20:27:49.138Z"
   },
   {
    "duration": 13,
    "start_time": "2022-05-25T20:27:49.193Z"
   },
   {
    "duration": 8,
    "start_time": "2022-05-25T20:27:49.208Z"
   },
   {
    "duration": 13,
    "start_time": "2022-05-25T20:27:49.217Z"
   },
   {
    "duration": 37,
    "start_time": "2022-05-25T20:27:49.233Z"
   },
   {
    "duration": 13,
    "start_time": "2022-05-25T20:27:49.274Z"
   },
   {
    "duration": 6,
    "start_time": "2022-05-25T20:27:49.290Z"
   },
   {
    "duration": 7,
    "start_time": "2022-05-25T20:27:49.297Z"
   },
   {
    "duration": 11,
    "start_time": "2022-05-25T20:27:49.306Z"
   },
   {
    "duration": 33,
    "start_time": "2022-05-25T20:27:49.319Z"
   },
   {
    "duration": 345,
    "start_time": "2022-05-25T20:27:49.354Z"
   },
   {
    "duration": 13,
    "start_time": "2022-05-25T20:27:49.701Z"
   },
   {
    "duration": 396,
    "start_time": "2022-05-25T20:27:49.716Z"
   },
   {
    "duration": 12,
    "start_time": "2022-05-25T20:27:50.113Z"
   },
   {
    "duration": 25,
    "start_time": "2022-05-25T20:27:50.127Z"
   },
   {
    "duration": 31,
    "start_time": "2022-05-25T20:27:50.153Z"
   },
   {
    "duration": 17,
    "start_time": "2022-05-25T20:27:50.186Z"
   },
   {
    "duration": 6,
    "start_time": "2022-05-25T20:27:50.206Z"
   },
   {
    "duration": 10,
    "start_time": "2022-05-25T20:27:50.214Z"
   },
   {
    "duration": 48,
    "start_time": "2022-05-25T20:27:50.226Z"
   },
   {
    "duration": 539,
    "start_time": "2022-05-25T20:27:50.276Z"
   },
   {
    "duration": 348,
    "start_time": "2022-05-25T20:27:50.817Z"
   },
   {
    "duration": 528,
    "start_time": "2022-05-25T20:27:51.170Z"
   },
   {
    "duration": 320,
    "start_time": "2022-05-25T20:27:51.704Z"
   },
   {
    "duration": 385,
    "start_time": "2022-05-25T20:27:52.029Z"
   },
   {
    "duration": 9,
    "start_time": "2022-05-25T20:27:52.416Z"
   },
   {
    "duration": 26,
    "start_time": "2022-05-25T20:27:52.427Z"
   },
   {
    "duration": 33,
    "start_time": "2022-05-25T20:27:52.457Z"
   },
   {
    "duration": 177,
    "start_time": "2022-05-25T20:27:52.501Z"
   },
   {
    "duration": 7,
    "start_time": "2022-05-25T20:27:52.680Z"
   },
   {
    "duration": 8,
    "start_time": "2022-05-25T20:27:52.689Z"
   },
   {
    "duration": 203,
    "start_time": "2022-05-25T20:27:52.705Z"
   },
   {
    "duration": 8,
    "start_time": "2022-05-25T20:27:52.915Z"
   },
   {
    "duration": 36,
    "start_time": "2022-05-25T20:27:52.925Z"
   },
   {
    "duration": 307,
    "start_time": "2022-05-25T20:27:52.966Z"
   },
   {
    "duration": 183,
    "start_time": "2022-05-25T20:27:53.278Z"
   },
   {
    "duration": 8,
    "start_time": "2022-05-25T20:27:53.463Z"
   },
   {
    "duration": 9,
    "start_time": "2022-05-25T20:27:53.473Z"
   },
   {
    "duration": 67,
    "start_time": "2022-05-25T20:27:53.484Z"
   },
   {
    "duration": 13,
    "start_time": "2022-05-25T20:27:53.559Z"
   },
   {
    "duration": 9,
    "start_time": "2022-05-25T20:27:53.575Z"
   },
   {
    "duration": 10,
    "start_time": "2022-05-25T20:27:53.587Z"
   },
   {
    "duration": 9,
    "start_time": "2022-05-25T20:27:53.599Z"
   },
   {
    "duration": 42,
    "start_time": "2022-05-25T20:27:53.609Z"
   },
   {
    "duration": 12,
    "start_time": "2022-05-25T20:27:53.655Z"
   },
   {
    "duration": 26,
    "start_time": "2022-05-25T20:27:53.669Z"
   },
   {
    "duration": 7,
    "start_time": "2022-05-25T20:27:53.698Z"
   },
   {
    "duration": 6,
    "start_time": "2022-05-25T20:27:53.707Z"
   },
   {
    "duration": 5,
    "start_time": "2022-05-25T20:27:53.715Z"
   },
   {
    "duration": 13,
    "start_time": "2022-05-25T20:27:53.723Z"
   },
   {
    "duration": 53,
    "start_time": "2022-05-25T20:27:53.747Z"
   },
   {
    "duration": 12,
    "start_time": "2022-05-25T20:27:53.802Z"
   },
   {
    "duration": 5,
    "start_time": "2022-05-25T20:27:53.816Z"
   },
   {
    "duration": 42,
    "start_time": "2022-05-25T20:27:53.843Z"
   },
   {
    "duration": 13,
    "start_time": "2022-05-25T20:27:53.887Z"
   },
   {
    "duration": 21,
    "start_time": "2022-05-25T20:27:53.903Z"
   },
   {
    "duration": 9,
    "start_time": "2022-05-25T20:27:53.927Z"
   },
   {
    "duration": 35,
    "start_time": "2022-05-25T20:27:53.938Z"
   },
   {
    "duration": 12,
    "start_time": "2022-05-25T20:27:53.975Z"
   }
  ],
  "kernelspec": {
   "display_name": "Python 3 (ipykernel)",
   "language": "python",
   "name": "python3"
  },
  "language_info": {
   "codemirror_mode": {
    "name": "ipython",
    "version": 3
   },
   "file_extension": ".py",
   "mimetype": "text/x-python",
   "name": "python",
   "nbconvert_exporter": "python",
   "pygments_lexer": "ipython3",
   "version": "3.9.7"
  },
  "toc": {
   "base_numbering": 1,
   "nav_menu": {},
   "number_sections": false,
   "sideBar": true,
   "skip_h1_title": false,
   "title_cell": "Table of Contents",
   "title_sidebar": "Contents",
   "toc_cell": false,
   "toc_position": {},
   "toc_section_display": true,
   "toc_window_display": true
  }
 },
 "nbformat": 4,
 "nbformat_minor": 2
}
